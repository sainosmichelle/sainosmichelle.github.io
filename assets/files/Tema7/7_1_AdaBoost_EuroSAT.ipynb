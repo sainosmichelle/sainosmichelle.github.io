{
  "nbformat": 4,
  "nbformat_minor": 0,
  "metadata": {
    "colab": {
      "name": "7.1 AdaBoost_EuroSAT.ipynb",
      "provenance": [],
      "collapsed_sections": []
    },
    "kernelspec": {
      "name": "python3",
      "display_name": "Python 3"
    }
  },
  "cells": [
    {
      "cell_type": "markdown",
      "metadata": {
        "id": "E-M3Qcm2rgT6"
      },
      "source": [
        "# Boosting para el dataset EuroSAT"
      ]
    },
    {
      "cell_type": "markdown",
      "metadata": {
        "id": "DvlxW9dOdW8D"
      },
      "source": [
        "# 1. Acceso a drive"
      ]
    },
    {
      "cell_type": "code",
      "metadata": {
        "colab": {
          "base_uri": "https://localhost:8080/"
        },
        "id": "mnzvRgg79tyR",
        "outputId": "7b9d22f8-7850-407f-ae10-53af25b540d7"
      },
      "source": [
        "from google.colab import drive\r\n",
        "drive.mount('/content/drive')"
      ],
      "execution_count": 1,
      "outputs": [
        {
          "output_type": "stream",
          "text": [
            "Mounted at /content/drive\n"
          ],
          "name": "stdout"
        }
      ]
    },
    {
      "cell_type": "markdown",
      "metadata": {
        "id": "DyB5JFiTrn_l"
      },
      "source": [
        "# 2. Importando módulos"
      ]
    },
    {
      "cell_type": "code",
      "metadata": {
        "id": "AIcALm4S94iJ"
      },
      "source": [
        "import pandas as pd\r\n",
        "import os\r\n",
        "from ____ import LabelEncoder\r\n",
        "from ____ import MinMaxScaler\r\n",
        "from ____ import DecisionTreeClassifier\r\n",
        "from sklearn import metrics\r\n",
        "import numpy as np\r\n",
        "import itertools\r\n",
        "from sklearn.metrics import confusion_matrix\r\n",
        "import matplotlib.pyplot as plt\r\n",
        "import seaborn as sns\r\n",
        "from sklearn.ensemble import AdaBoostClassifier\r\n",
        "from sklearn.decomposition import PCA\r\n",
        "from sklearn.model_selection import train_test_split"
      ],
      "execution_count": null,
      "outputs": []
    },
    {
      "cell_type": "markdown",
      "metadata": {
        "id": "uiH1QnkPsgwj"
      },
      "source": [
        "# 3. Lectura de los datos"
      ]
    },
    {
      "cell_type": "code",
      "metadata": {
        "id": "sCa-f2B4-Env"
      },
      "source": [
        "path = ______\r\n",
        "train_path = os.path.join(path,'EUROSAT_TRAIN_FEAT.csv')"
      ],
      "execution_count": null,
      "outputs": []
    },
    {
      "cell_type": "code",
      "metadata": {
        "id": "wXfZm-v3-ItH"
      },
      "source": [
        "train_df = pd._____(train_path)\r\n",
        "clases = train_df['label'].unique()\r\n",
        "train_df.head()"
      ],
      "execution_count": null,
      "outputs": []
    },
    {
      "cell_type": "markdown",
      "metadata": {
        "id": "0OwXxbzGuoHh"
      },
      "source": [
        "**Enlistando las categorías de las imágenes**"
      ]
    },
    {
      "cell_type": "code",
      "metadata": {
        "id": "PReLAPuHClkm"
      },
      "source": [
        "clases = train_df['label'].unique().tolist()\r\n",
        "n_clases = len(clases)\r\n",
        "print(clases)"
      ],
      "execution_count": null,
      "outputs": []
    },
    {
      "cell_type": "markdown",
      "metadata": {
        "id": "uxbL2ayKu1eb"
      },
      "source": [
        "**Visualizando distribución de clases**"
      ]
    },
    {
      "cell_type": "code",
      "metadata": {
        "id": "hge_OiNUu6rp"
      },
      "source": [
        "fig, ax =plt.subplots(figsize=(16,5))\r\n",
        "sns.countplot('label', data=____)\r\n",
        "plt.title('Distribucion de clases de Eurosat')\r\n",
        "plt.xlabel('Clase', fontsize=14)\r\n",
        "plt.ylabel('# de imágenes', fontsize=14)\r\n",
        "plt.show()"
      ],
      "execution_count": null,
      "outputs": []
    },
    {
      "cell_type": "markdown",
      "metadata": {
        "id": "90Oh3_VJtDIn"
      },
      "source": [
        "# 3. Codificación de las etiquetas y escalamiento"
      ]
    },
    {
      "cell_type": "markdown",
      "metadata": {
        "id": "xC1RbwjtvTy5"
      },
      "source": [
        "**Codificación de etiquetas de la columna label**"
      ]
    },
    {
      "cell_type": "code",
      "metadata": {
        "id": "2YquN3Uv-NQ7"
      },
      "source": [
        "le = _____\r\n",
        "train_df['label'] = ___.____(train_df.label.values)"
      ],
      "execution_count": null,
      "outputs": []
    },
    {
      "cell_type": "markdown",
      "metadata": {
        "id": "ZL58H2ccvZV6"
      },
      "source": [
        "**Escalamiento de las características de 0 a 1**"
      ]
    },
    {
      "cell_type": "code",
      "metadata": {
        "id": "ZBbW1r64-hOx"
      },
      "source": [
        "scaler = _____(____=(0, 1))\r\n",
        "train_df.loc[:, train_df.columns != 'label'] = scaler._____(train_df.loc[:, train_df.columns != 'label'])"
      ],
      "execution_count": null,
      "outputs": []
    },
    {
      "cell_type": "markdown",
      "metadata": {
        "id": "XLXzLV0ntJ-K"
      },
      "source": [
        "# 4. Análisis de componentes principales"
      ]
    },
    {
      "cell_type": "markdown",
      "metadata": {
        "id": "9qsgqXQ9vfvS"
      },
      "source": [
        "**Análisis PCA con el 95% de varianza acumulada**"
      ]
    },
    {
      "cell_type": "code",
      "metadata": {
        "id": "q-systhk-jmx"
      },
      "source": [
        "pca = ___(0.95)\r\n",
        "pc = ___._____(train_df.iloc[:,:-1])\r\n",
        "df_pca = pd.DataFrame(data = pc,\r\n",
        "                           columns=range(pc.shape[1]))\r\n",
        "df_pca = pd.concat([df_pca, train_df.iloc[:,-1]], axis = 1)"
      ],
      "execution_count": null,
      "outputs": []
    },
    {
      "cell_type": "code",
      "metadata": {
        "id": "-yjYiCuq_gLn"
      },
      "source": [
        "print('Número de componentes principales: %s'%len(pca.explained_variance_ratio_))\r\n",
        "print('Varianza acumulada con %s componentes: %s'%(len(pca.explained_variance_ratio_),np.sum(pca.explained_variance_ratio_)))"
      ],
      "execution_count": null,
      "outputs": []
    },
    {
      "cell_type": "code",
      "metadata": {
        "id": "sAlYigOD_qba"
      },
      "source": [
        "df_pca.head()"
      ],
      "execution_count": null,
      "outputs": []
    },
    {
      "cell_type": "markdown",
      "metadata": {
        "id": "mvbhsfjp2PBS"
      },
      "source": [
        "# 5. Validación para los modelos"
      ]
    },
    {
      "cell_type": "markdown",
      "metadata": {
        "id": "3nuGdxF-vscU"
      },
      "source": [
        "**Dividiendo las características (vars indeps) de la etiqueta (var dep)**"
      ]
    },
    {
      "cell_type": "code",
      "metadata": {
        "id": "5tkEbn3ZA_h5"
      },
      "source": [
        "X = np.array(____) \r\n",
        "y = np.array(____) "
      ],
      "execution_count": null,
      "outputs": []
    },
    {
      "cell_type": "markdown",
      "metadata": {
        "id": "cycha8m7v2no"
      },
      "source": [
        "**Hold- Out validation con 20% de datos para prueba**"
      ]
    },
    {
      "cell_type": "code",
      "metadata": {
        "id": "N0NGI4YOraKD"
      },
      "source": [
        "X_train, X_test, y_train, y_test = train_test_split(____, ____, test_size = ____, random_state = 0, shuffle=____)\r\n",
        "\r\n",
        "print(f'Dimension de los datos de entrenamiento {X_train.shape}')\r\n",
        "print(f'Dimension de los datos de prueba {X_test.shape}')"
      ],
      "execution_count": null,
      "outputs": []
    },
    {
      "cell_type": "markdown",
      "metadata": {
        "id": "0EbychIC2lC2"
      },
      "source": [
        "# 6. Árbol de decisión (baseline)"
      ]
    },
    {
      "cell_type": "markdown",
      "metadata": {
        "id": "QpPj2joBwAgf"
      },
      "source": [
        "**Creación de nuestro modelo sencillo con 5 niveles de decisión, de aquí partimos**"
      ]
    },
    {
      "cell_type": "code",
      "metadata": {
        "id": "rPEWXdVqBho4"
      },
      "source": [
        "cart =  DecisionTreeClassifier(max_depth=___)"
      ],
      "execution_count": null,
      "outputs": []
    },
    {
      "cell_type": "markdown",
      "metadata": {
        "id": "c301zPlHwH-N"
      },
      "source": [
        "**Entrenamiento con los datos de entrenamiento**"
      ]
    },
    {
      "cell_type": "code",
      "metadata": {
        "id": "msMrKTMwp2_u"
      },
      "source": [
        "cart = ____.___(____, ____)"
      ],
      "execution_count": null,
      "outputs": []
    },
    {
      "cell_type": "markdown",
      "metadata": {
        "id": "VeJgeSNbwRHb"
      },
      "source": [
        "**Score de entrenmiento**"
      ]
    },
    {
      "cell_type": "code",
      "metadata": {
        "id": "9FME8DSjsN6P"
      },
      "source": [
        "___.score(____,____)"
      ],
      "execution_count": null,
      "outputs": []
    },
    {
      "cell_type": "markdown",
      "metadata": {
        "id": "-wyyiLJ8wVNx"
      },
      "source": [
        "**Obteniendo las predicciones**"
      ]
    },
    {
      "cell_type": "code",
      "metadata": {
        "id": "H5AvYKA4r_fi"
      },
      "source": [
        "y_pred = ____.___(____)"
      ],
      "execution_count": null,
      "outputs": []
    },
    {
      "cell_type": "markdown",
      "metadata": {
        "id": "icvmOwQDwYfr"
      },
      "source": [
        "**Score de los datos de prueba i.e. los predichos**"
      ]
    },
    {
      "cell_type": "code",
      "metadata": {
        "id": "tH5hvxlysFQ_"
      },
      "source": [
        "score = metrics.accuracy_score(____, ____)\r\n",
        "print(\"Test Acc: %s\"%score)"
      ],
      "execution_count": null,
      "outputs": []
    },
    {
      "cell_type": "markdown",
      "metadata": {
        "id": "e747TURbwg9q"
      },
      "source": [
        "**Matri de confusión**"
      ]
    },
    {
      "cell_type": "code",
      "metadata": {
        "id": "hXc8n38UADt1"
      },
      "source": [
        "def plot_confusion_matrix(cm, classes, tit, normalize=False):\r\n",
        "    if normalize:\r\n",
        "        cm = cm.astype('float')/cm.sum(axis=1)\r\n",
        "        title, fmt = 'Matriz de confusión normalizada', '.2f'\r\n",
        "    else:\r\n",
        "        title, fmt = tit, 'd'\r\n",
        "    plt.figure(figsize=(10,8))\r\n",
        "    plt.imshow(cm, interpolation='nearest', cmap=plt.cm.Blues)\r\n",
        "    plt.title(title)#, fontsize=12)\r\n",
        "    plt.colorbar(pad=0.05)\r\n",
        "    tick_marks = np.arange(len(classes))\r\n",
        "    plt.xticks(tick_marks, classes, rotation=40)\r\n",
        "    plt.yticks(tick_marks, classes)\r\n",
        "    thresh = cm.max()/2.\r\n",
        "    for i, j in itertools.product(range(cm.shape[0]), range(cm.shape[1])):\r\n",
        "        plt.text(j, i, format(cm[i, j], fmt),horizontalalignment=\"center\", \r\n",
        "                 color=\"white\" if cm[i, j] > thresh else \"black\")\r\n",
        "    plt.tight_layout()\r\n",
        "    plt.ylabel('Clase Verdadera')\r\n",
        "    plt.xlabel('Clase Predicha')\r\n",
        "    plt.savefig(title+'.png')\r\n",
        "    plt.grid(False)\r\n",
        "    plt.show()"
      ],
      "execution_count": null,
      "outputs": []
    },
    {
      "cell_type": "markdown",
      "metadata": {
        "id": "aZSaMAVPwlY2"
      },
      "source": [
        "**¿Qué observamos?**"
      ]
    },
    {
      "cell_type": "code",
      "metadata": {
        "id": "hOwjMuajBrIs"
      },
      "source": [
        "cnf_matrix = confusion_matrix(y_test, y_pred, labels=range(n_clases))\r\n",
        "tit = 'Matriz de confusión CART'\r\n",
        "plot_confusion_matrix(cnf_matrix,clases, tit, normalize=False)"
      ],
      "execution_count": null,
      "outputs": []
    },
    {
      "cell_type": "markdown",
      "metadata": {
        "id": "8J-naHyZ2tUy"
      },
      "source": [
        "# ¿Cuántos weak learners son necesarios?"
      ]
    },
    {
      "cell_type": "code",
      "metadata": {
        "id": "hA46zz_wCCQo"
      },
      "source": [
        "Xclassifiers = []\r\n",
        "Yscore = []\r\n",
        "\r\n",
        "# Arbol de decisión sencillo\r\n",
        "cart =  DecisionTreeClassifier(max_depth=5)\r\n",
        "for i in range(500):\r\n",
        "  if i%100 == 0:\r\n",
        "    # En cada iteración, se creará una adaboost con i+1 árboles sencillos\r\n",
        "    boost = AdaBoostClassifier(base_estimator=_____, n_estimators=____)\r\n",
        "    # Entrenando el modelo\r\n",
        "    boost = boost.fit(____, ____)\r\n",
        "    # Prediciendo los de prueba\r\n",
        "    preds = boost.predict(___)\r\n",
        "    # Score de prueba\r\n",
        "    score = metrics.accuracy_score(___, ____)\r\n",
        "    Yscore.append(score)\r\n",
        "    Xclassifiers.append(i+1)\r\n",
        "    print(\"iter: %s, score: %s\"%(i+1,np.mean(score)))\r\n"
      ],
      "execution_count": null,
      "outputs": []
    },
    {
      "cell_type": "code",
      "metadata": {
        "id": "_9KOojUJC2Zi"
      },
      "source": [
        "plt.figure()\r\n",
        "plt.plot(Xclassifiers, Yscore, lw=2)\r\n",
        "plt.xlabel('Clasificadores')\r\n",
        "plt.ylabel('Score Promedio')\r\n",
        "plt.title('Score vs Classificadores: AdaBoost + CART')\r\n",
        "print(\"Score máximo alcanzado: \",np.max(Yscore)) \r\n",
        "plt.grid()\r\n",
        "plt.show() "
      ],
      "execution_count": null,
      "outputs": []
    },
    {
      "cell_type": "markdown",
      "metadata": {
        "id": "Ps9Ghdx9rSyu"
      },
      "source": [
        "# 7. Boosting con CART"
      ]
    },
    {
      "cell_type": "markdown",
      "metadata": {
        "id": "pOc0LAEXxUG9"
      },
      "source": [
        "**Creando nuestro clasificador de Boosting**"
      ]
    },
    {
      "cell_type": "code",
      "metadata": {
        "id": "I3sCrksfERa2"
      },
      "source": [
        "cart = _____(max_depth=____)\r\n",
        "boost = ______(base_estimator=____, n_estimators=___)"
      ],
      "execution_count": null,
      "outputs": []
    },
    {
      "cell_type": "markdown",
      "metadata": {
        "id": "Gfsg-G5NxbGw"
      },
      "source": [
        "**Entrenando al clasificador**"
      ]
    },
    {
      "cell_type": "code",
      "metadata": {
        "id": "HapcRz3mEUIW"
      },
      "source": [
        "boost = ____.____(____, ____)"
      ],
      "execution_count": null,
      "outputs": []
    },
    {
      "cell_type": "markdown",
      "metadata": {
        "id": "Q29u0j0WxgO4"
      },
      "source": [
        "**Score de entrenamiento**"
      ]
    },
    {
      "cell_type": "code",
      "metadata": {
        "id": "lCvQjoBxuGRj"
      },
      "source": [
        "___.___(___,___)"
      ],
      "execution_count": null,
      "outputs": []
    },
    {
      "cell_type": "markdown",
      "metadata": {
        "id": "Mn0Yuqr5xkAW"
      },
      "source": [
        "**Predicciones**"
      ]
    },
    {
      "cell_type": "code",
      "metadata": {
        "id": "EgoQ5MIsEUh0"
      },
      "source": [
        "y_pred = boost.____(____)"
      ],
      "execution_count": null,
      "outputs": []
    },
    {
      "cell_type": "markdown",
      "metadata": {
        "id": "oCSbY681xmyd"
      },
      "source": [
        "**Score de prueba**"
      ]
    },
    {
      "cell_type": "code",
      "metadata": {
        "id": "uSNC8Ntjt7UO"
      },
      "source": [
        "score = metrics.accuracy_score(y_test, ____)\r\n",
        "score"
      ],
      "execution_count": null,
      "outputs": []
    },
    {
      "cell_type": "markdown",
      "metadata": {
        "id": "2h0mOai9xsVB"
      },
      "source": [
        "**Matriz de confusión**"
      ]
    },
    {
      "cell_type": "code",
      "metadata": {
        "id": "qgI7UNY5EZm5"
      },
      "source": [
        "cnf_matrix = confusion_matrix(____, ____, labels=range(n_clases))\r\n",
        "tit = 'Matriz de confusión AdaBoost'\r\n",
        "plot_confusion_matrix(cnf_matrix,clases, tit, normalize=False)"
      ],
      "execution_count": null,
      "outputs": []
    },
    {
      "cell_type": "code",
      "metadata": {
        "id": "Su1m8CIy_iE6"
      },
      "source": [
        ""
      ],
      "execution_count": null,
      "outputs": []
    }
  ]
}