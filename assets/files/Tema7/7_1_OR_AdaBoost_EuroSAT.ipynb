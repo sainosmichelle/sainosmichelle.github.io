{
  "nbformat": 4,
  "nbformat_minor": 0,
  "metadata": {
    "colab": {
      "name": "7.1  OR_AdaBoost_EuroSAT.ipynb",
      "provenance": [],
      "collapsed_sections": []
    },
    "kernelspec": {
      "name": "python3",
      "display_name": "Python 3"
    }
  },
  "cells": [
    {
      "cell_type": "markdown",
      "metadata": {
        "id": "E-M3Qcm2rgT6"
      },
      "source": [
        "# Boosting para el dataset EuroSAT"
      ]
    },
    {
      "cell_type": "markdown",
      "metadata": {
        "id": "DvlxW9dOdW8D"
      },
      "source": [
        "# 1. Acceso a drive"
      ]
    },
    {
      "cell_type": "code",
      "metadata": {
        "colab": {
          "base_uri": "https://localhost:8080/"
        },
        "id": "mnzvRgg79tyR",
        "outputId": "70fd589f-462e-4e83-b998-e43a0fc99ec8"
      },
      "source": [
        "from google.colab import drive\r\n",
        "drive.mount('/content/drive')"
      ],
      "execution_count": 1,
      "outputs": [
        {
          "output_type": "stream",
          "text": [
            "Mounted at /content/drive\n"
          ],
          "name": "stdout"
        }
      ]
    },
    {
      "cell_type": "markdown",
      "metadata": {
        "id": "DyB5JFiTrn_l"
      },
      "source": [
        "# 2. Importando módulos"
      ]
    },
    {
      "cell_type": "code",
      "metadata": {
        "id": "AIcALm4S94iJ"
      },
      "source": [
        "import pandas as pd\r\n",
        "import os\r\n",
        "from sklearn.preprocessing import LabelEncoder\r\n",
        "from sklearn.preprocessing import MinMaxScaler\r\n",
        "from sklearn.tree import DecisionTreeClassifier\r\n",
        "from sklearn import metrics\r\n",
        "import numpy as np\r\n",
        "import itertools\r\n",
        "from sklearn.metrics import confusion_matrix\r\n",
        "import matplotlib.pyplot as plt\r\n",
        "import seaborn as sns\r\n",
        "import plotly.graph_objects as go\r\n",
        "import plotly.express as px\r\n",
        "import plotly.io as pio\r\n",
        "from sklearn.ensemble import AdaBoostClassifier\r\n",
        "from sklearn.decomposition import PCA\r\n",
        "from sklearn.model_selection import train_test_split"
      ],
      "execution_count": 26,
      "outputs": []
    },
    {
      "cell_type": "markdown",
      "metadata": {
        "id": "uiH1QnkPsgwj"
      },
      "source": [
        "# 3. Lectura de los datos"
      ]
    },
    {
      "cell_type": "code",
      "metadata": {
        "id": "sCa-f2B4-Env"
      },
      "source": [
        "path = r'/content/drive/Shareddrives/Data Science para Geociencias/6. Métodos de ML/6.3 Árbol de decisión'\r\n",
        "train_path = os.path.join(path,'EUROSAT_TRAIN_FEAT.csv')"
      ],
      "execution_count": 27,
      "outputs": []
    },
    {
      "cell_type": "code",
      "metadata": {
        "colab": {
          "base_uri": "https://localhost:8080/",
          "height": 328
        },
        "id": "wXfZm-v3-ItH",
        "outputId": "23ed8e13-f6df-4c27-b61f-e61450b6083f"
      },
      "source": [
        "train_df = pd.read_csv(train_path)\r\n",
        "clases = train_df['label'].unique()\r\n",
        "train_df.head()"
      ],
      "execution_count": 28,
      "outputs": [
        {
          "output_type": "execute_result",
          "data": {
            "text/html": [
              "<div>\n",
              "<style scoped>\n",
              "    .dataframe tbody tr th:only-of-type {\n",
              "        vertical-align: middle;\n",
              "    }\n",
              "\n",
              "    .dataframe tbody tr th {\n",
              "        vertical-align: top;\n",
              "    }\n",
              "\n",
              "    .dataframe thead th {\n",
              "        text-align: right;\n",
              "    }\n",
              "</style>\n",
              "<table border=\"1\" class=\"dataframe\">\n",
              "  <thead>\n",
              "    <tr style=\"text-align: right;\">\n",
              "      <th></th>\n",
              "      <th>color_0</th>\n",
              "      <th>color_1</th>\n",
              "      <th>color_2</th>\n",
              "      <th>color_3</th>\n",
              "      <th>color_4</th>\n",
              "      <th>color_5</th>\n",
              "      <th>color_6</th>\n",
              "      <th>color_7</th>\n",
              "      <th>color_8</th>\n",
              "      <th>color_9</th>\n",
              "      <th>color_10</th>\n",
              "      <th>color_11</th>\n",
              "      <th>color_12</th>\n",
              "      <th>color_13</th>\n",
              "      <th>color_14</th>\n",
              "      <th>color_15</th>\n",
              "      <th>color_16</th>\n",
              "      <th>color_17</th>\n",
              "      <th>color_18</th>\n",
              "      <th>color_19</th>\n",
              "      <th>color_20</th>\n",
              "      <th>color_21</th>\n",
              "      <th>color_22</th>\n",
              "      <th>color_23</th>\n",
              "      <th>color_24</th>\n",
              "      <th>color_25</th>\n",
              "      <th>color_26</th>\n",
              "      <th>color_27</th>\n",
              "      <th>color_28</th>\n",
              "      <th>color_29</th>\n",
              "      <th>color_30</th>\n",
              "      <th>color_31</th>\n",
              "      <th>color_32</th>\n",
              "      <th>color_33</th>\n",
              "      <th>color_34</th>\n",
              "      <th>color_35</th>\n",
              "      <th>color_36</th>\n",
              "      <th>color_37</th>\n",
              "      <th>color_38</th>\n",
              "      <th>color_39</th>\n",
              "      <th>...</th>\n",
              "      <th>color_493</th>\n",
              "      <th>color_494</th>\n",
              "      <th>color_495</th>\n",
              "      <th>color_496</th>\n",
              "      <th>color_497</th>\n",
              "      <th>color_498</th>\n",
              "      <th>color_499</th>\n",
              "      <th>color_500</th>\n",
              "      <th>color_501</th>\n",
              "      <th>color_502</th>\n",
              "      <th>color_503</th>\n",
              "      <th>color_504</th>\n",
              "      <th>color_505</th>\n",
              "      <th>color_506</th>\n",
              "      <th>color_507</th>\n",
              "      <th>color_508</th>\n",
              "      <th>color_509</th>\n",
              "      <th>color_510</th>\n",
              "      <th>color_511</th>\n",
              "      <th>texture_0</th>\n",
              "      <th>texture_1</th>\n",
              "      <th>texture_2</th>\n",
              "      <th>texture_3</th>\n",
              "      <th>texture_4</th>\n",
              "      <th>texture_5</th>\n",
              "      <th>texture_6</th>\n",
              "      <th>texture_7</th>\n",
              "      <th>texture_8</th>\n",
              "      <th>texture_9</th>\n",
              "      <th>texture_10</th>\n",
              "      <th>texture_11</th>\n",
              "      <th>texture_12</th>\n",
              "      <th>Hu_0</th>\n",
              "      <th>Hu_1</th>\n",
              "      <th>Hu_2</th>\n",
              "      <th>Hu_3</th>\n",
              "      <th>Hu_4</th>\n",
              "      <th>Hu_5</th>\n",
              "      <th>Hu_6</th>\n",
              "      <th>label</th>\n",
              "    </tr>\n",
              "  </thead>\n",
              "  <tbody>\n",
              "    <tr>\n",
              "      <th>0</th>\n",
              "      <td>0.0</td>\n",
              "      <td>0.0</td>\n",
              "      <td>0.000429</td>\n",
              "      <td>0.002575</td>\n",
              "      <td>0.001717</td>\n",
              "      <td>0.000000</td>\n",
              "      <td>0.0</td>\n",
              "      <td>0.0</td>\n",
              "      <td>0.0</td>\n",
              "      <td>0.0</td>\n",
              "      <td>0.0</td>\n",
              "      <td>0.000000</td>\n",
              "      <td>0.014593</td>\n",
              "      <td>0.012018</td>\n",
              "      <td>0.000429</td>\n",
              "      <td>0.000000</td>\n",
              "      <td>0.0</td>\n",
              "      <td>0.0</td>\n",
              "      <td>0.0</td>\n",
              "      <td>0.0</td>\n",
              "      <td>0.00000</td>\n",
              "      <td>0.022748</td>\n",
              "      <td>0.003863</td>\n",
              "      <td>0.000000</td>\n",
              "      <td>0.0</td>\n",
              "      <td>0.0</td>\n",
              "      <td>0.0</td>\n",
              "      <td>0.0</td>\n",
              "      <td>0.0</td>\n",
              "      <td>0.0</td>\n",
              "      <td>0.000000</td>\n",
              "      <td>0.000000</td>\n",
              "      <td>0.0</td>\n",
              "      <td>0.0</td>\n",
              "      <td>0.0</td>\n",
              "      <td>0.0</td>\n",
              "      <td>0.0</td>\n",
              "      <td>0.0</td>\n",
              "      <td>0.0</td>\n",
              "      <td>0.0</td>\n",
              "      <td>...</td>\n",
              "      <td>0.0</td>\n",
              "      <td>0.0</td>\n",
              "      <td>0.0</td>\n",
              "      <td>0.0</td>\n",
              "      <td>0.0</td>\n",
              "      <td>0.0</td>\n",
              "      <td>0.0</td>\n",
              "      <td>0.0</td>\n",
              "      <td>0.0</td>\n",
              "      <td>0.0</td>\n",
              "      <td>0.0</td>\n",
              "      <td>0.0</td>\n",
              "      <td>0.0</td>\n",
              "      <td>0.0</td>\n",
              "      <td>0.0</td>\n",
              "      <td>0.0</td>\n",
              "      <td>0.0</td>\n",
              "      <td>0.0</td>\n",
              "      <td>0.0</td>\n",
              "      <td>0.006973</td>\n",
              "      <td>23.040117</td>\n",
              "      <td>0.894417</td>\n",
              "      <td>110.144206</td>\n",
              "      <td>0.434422</td>\n",
              "      <td>203.396256</td>\n",
              "      <td>417.536707</td>\n",
              "      <td>5.810727</td>\n",
              "      <td>8.042798</td>\n",
              "      <td>0.001176</td>\n",
              "      <td>2.785816</td>\n",
              "      <td>-0.347483</td>\n",
              "      <td>0.981251</td>\n",
              "      <td>0.001636</td>\n",
              "      <td>1.474129e-10</td>\n",
              "      <td>9.088959e-13</td>\n",
              "      <td>1.238040e-13</td>\n",
              "      <td>3.785799e-26</td>\n",
              "      <td>-1.499442e-18</td>\n",
              "      <td>-1.707315e-26</td>\n",
              "      <td>AnnualCrop</td>\n",
              "    </tr>\n",
              "    <tr>\n",
              "      <th>1</th>\n",
              "      <td>0.0</td>\n",
              "      <td>0.0</td>\n",
              "      <td>0.000000</td>\n",
              "      <td>0.000000</td>\n",
              "      <td>0.000000</td>\n",
              "      <td>0.000000</td>\n",
              "      <td>0.0</td>\n",
              "      <td>0.0</td>\n",
              "      <td>0.0</td>\n",
              "      <td>0.0</td>\n",
              "      <td>0.0</td>\n",
              "      <td>0.000000</td>\n",
              "      <td>0.000000</td>\n",
              "      <td>0.000000</td>\n",
              "      <td>0.000000</td>\n",
              "      <td>0.000000</td>\n",
              "      <td>0.0</td>\n",
              "      <td>0.0</td>\n",
              "      <td>0.0</td>\n",
              "      <td>0.0</td>\n",
              "      <td>0.00000</td>\n",
              "      <td>0.000000</td>\n",
              "      <td>0.000000</td>\n",
              "      <td>0.000000</td>\n",
              "      <td>0.0</td>\n",
              "      <td>0.0</td>\n",
              "      <td>0.0</td>\n",
              "      <td>0.0</td>\n",
              "      <td>0.0</td>\n",
              "      <td>0.0</td>\n",
              "      <td>0.000000</td>\n",
              "      <td>0.000000</td>\n",
              "      <td>0.0</td>\n",
              "      <td>0.0</td>\n",
              "      <td>0.0</td>\n",
              "      <td>0.0</td>\n",
              "      <td>0.0</td>\n",
              "      <td>0.0</td>\n",
              "      <td>0.0</td>\n",
              "      <td>0.0</td>\n",
              "      <td>...</td>\n",
              "      <td>0.0</td>\n",
              "      <td>0.0</td>\n",
              "      <td>0.0</td>\n",
              "      <td>0.0</td>\n",
              "      <td>0.0</td>\n",
              "      <td>0.0</td>\n",
              "      <td>0.0</td>\n",
              "      <td>0.0</td>\n",
              "      <td>0.0</td>\n",
              "      <td>0.0</td>\n",
              "      <td>0.0</td>\n",
              "      <td>0.0</td>\n",
              "      <td>0.0</td>\n",
              "      <td>0.0</td>\n",
              "      <td>0.0</td>\n",
              "      <td>0.0</td>\n",
              "      <td>0.0</td>\n",
              "      <td>0.0</td>\n",
              "      <td>0.0</td>\n",
              "      <td>0.012056</td>\n",
              "      <td>8.327994</td>\n",
              "      <td>0.954820</td>\n",
              "      <td>92.368117</td>\n",
              "      <td>0.485495</td>\n",
              "      <td>128.941213</td>\n",
              "      <td>361.144472</td>\n",
              "      <td>5.391939</td>\n",
              "      <td>7.339855</td>\n",
              "      <td>0.002182</td>\n",
              "      <td>2.482645</td>\n",
              "      <td>-0.368246</td>\n",
              "      <td>0.979857</td>\n",
              "      <td>0.002638</td>\n",
              "      <td>1.679241e-09</td>\n",
              "      <td>5.095256e-11</td>\n",
              "      <td>4.445626e-11</td>\n",
              "      <td>1.772691e-21</td>\n",
              "      <td>-1.753889e-15</td>\n",
              "      <td>1.155135e-21</td>\n",
              "      <td>AnnualCrop</td>\n",
              "    </tr>\n",
              "    <tr>\n",
              "      <th>2</th>\n",
              "      <td>0.0</td>\n",
              "      <td>0.0</td>\n",
              "      <td>0.000000</td>\n",
              "      <td>0.007537</td>\n",
              "      <td>0.045220</td>\n",
              "      <td>0.022072</td>\n",
              "      <td>0.0</td>\n",
              "      <td>0.0</td>\n",
              "      <td>0.0</td>\n",
              "      <td>0.0</td>\n",
              "      <td>0.0</td>\n",
              "      <td>0.000000</td>\n",
              "      <td>0.058679</td>\n",
              "      <td>0.726218</td>\n",
              "      <td>0.577099</td>\n",
              "      <td>0.037145</td>\n",
              "      <td>0.0</td>\n",
              "      <td>0.0</td>\n",
              "      <td>0.0</td>\n",
              "      <td>0.0</td>\n",
              "      <td>0.00000</td>\n",
              "      <td>0.000000</td>\n",
              "      <td>0.136738</td>\n",
              "      <td>0.001077</td>\n",
              "      <td>0.0</td>\n",
              "      <td>0.0</td>\n",
              "      <td>0.0</td>\n",
              "      <td>0.0</td>\n",
              "      <td>0.0</td>\n",
              "      <td>0.0</td>\n",
              "      <td>0.000000</td>\n",
              "      <td>0.000000</td>\n",
              "      <td>0.0</td>\n",
              "      <td>0.0</td>\n",
              "      <td>0.0</td>\n",
              "      <td>0.0</td>\n",
              "      <td>0.0</td>\n",
              "      <td>0.0</td>\n",
              "      <td>0.0</td>\n",
              "      <td>0.0</td>\n",
              "      <td>...</td>\n",
              "      <td>0.0</td>\n",
              "      <td>0.0</td>\n",
              "      <td>0.0</td>\n",
              "      <td>0.0</td>\n",
              "      <td>0.0</td>\n",
              "      <td>0.0</td>\n",
              "      <td>0.0</td>\n",
              "      <td>0.0</td>\n",
              "      <td>0.0</td>\n",
              "      <td>0.0</td>\n",
              "      <td>0.0</td>\n",
              "      <td>0.0</td>\n",
              "      <td>0.0</td>\n",
              "      <td>0.0</td>\n",
              "      <td>0.0</td>\n",
              "      <td>0.0</td>\n",
              "      <td>0.0</td>\n",
              "      <td>0.0</td>\n",
              "      <td>0.0</td>\n",
              "      <td>0.001521</td>\n",
              "      <td>104.983759</td>\n",
              "      <td>0.948826</td>\n",
              "      <td>1025.361539</td>\n",
              "      <td>0.308539</td>\n",
              "      <td>297.756791</td>\n",
              "      <td>3996.462396</td>\n",
              "      <td>7.336093</td>\n",
              "      <td>10.155426</td>\n",
              "      <td>0.000610</td>\n",
              "      <td>3.690089</td>\n",
              "      <td>-0.400293</td>\n",
              "      <td>0.996832</td>\n",
              "      <td>0.001118</td>\n",
              "      <td>1.542389e-09</td>\n",
              "      <td>7.932409e-13</td>\n",
              "      <td>5.521435e-12</td>\n",
              "      <td>1.154182e-23</td>\n",
              "      <td>1.639691e-16</td>\n",
              "      <td>-5.577083e-25</td>\n",
              "      <td>AnnualCrop</td>\n",
              "    </tr>\n",
              "    <tr>\n",
              "      <th>3</th>\n",
              "      <td>0.0</td>\n",
              "      <td>0.0</td>\n",
              "      <td>0.000000</td>\n",
              "      <td>0.000000</td>\n",
              "      <td>0.000000</td>\n",
              "      <td>0.000000</td>\n",
              "      <td>0.0</td>\n",
              "      <td>0.0</td>\n",
              "      <td>0.0</td>\n",
              "      <td>0.0</td>\n",
              "      <td>0.0</td>\n",
              "      <td>0.000478</td>\n",
              "      <td>0.033963</td>\n",
              "      <td>0.027266</td>\n",
              "      <td>0.000000</td>\n",
              "      <td>0.000000</td>\n",
              "      <td>0.0</td>\n",
              "      <td>0.0</td>\n",
              "      <td>0.0</td>\n",
              "      <td>0.0</td>\n",
              "      <td>0.00287</td>\n",
              "      <td>0.046879</td>\n",
              "      <td>0.647692</td>\n",
              "      <td>0.685004</td>\n",
              "      <td>0.0</td>\n",
              "      <td>0.0</td>\n",
              "      <td>0.0</td>\n",
              "      <td>0.0</td>\n",
              "      <td>0.0</td>\n",
              "      <td>0.0</td>\n",
              "      <td>0.094236</td>\n",
              "      <td>0.299928</td>\n",
              "      <td>0.0</td>\n",
              "      <td>0.0</td>\n",
              "      <td>0.0</td>\n",
              "      <td>0.0</td>\n",
              "      <td>0.0</td>\n",
              "      <td>0.0</td>\n",
              "      <td>0.0</td>\n",
              "      <td>0.0</td>\n",
              "      <td>...</td>\n",
              "      <td>0.0</td>\n",
              "      <td>0.0</td>\n",
              "      <td>0.0</td>\n",
              "      <td>0.0</td>\n",
              "      <td>0.0</td>\n",
              "      <td>0.0</td>\n",
              "      <td>0.0</td>\n",
              "      <td>0.0</td>\n",
              "      <td>0.0</td>\n",
              "      <td>0.0</td>\n",
              "      <td>0.0</td>\n",
              "      <td>0.0</td>\n",
              "      <td>0.0</td>\n",
              "      <td>0.0</td>\n",
              "      <td>0.0</td>\n",
              "      <td>0.0</td>\n",
              "      <td>0.0</td>\n",
              "      <td>0.0</td>\n",
              "      <td>0.0</td>\n",
              "      <td>0.003368</td>\n",
              "      <td>52.156309</td>\n",
              "      <td>0.957445</td>\n",
              "      <td>613.487385</td>\n",
              "      <td>0.354164</td>\n",
              "      <td>360.245280</td>\n",
              "      <td>2401.793232</td>\n",
              "      <td>6.712811</td>\n",
              "      <td>9.258063</td>\n",
              "      <td>0.000695</td>\n",
              "      <td>3.298105</td>\n",
              "      <td>-0.389142</td>\n",
              "      <td>0.993600</td>\n",
              "      <td>0.000908</td>\n",
              "      <td>2.647723e-09</td>\n",
              "      <td>1.190332e-12</td>\n",
              "      <td>1.161787e-12</td>\n",
              "      <td>-9.484001e-25</td>\n",
              "      <td>-1.877223e-18</td>\n",
              "      <td>9.834228e-25</td>\n",
              "      <td>AnnualCrop</td>\n",
              "    </tr>\n",
              "    <tr>\n",
              "      <th>4</th>\n",
              "      <td>0.0</td>\n",
              "      <td>0.0</td>\n",
              "      <td>0.000000</td>\n",
              "      <td>0.000000</td>\n",
              "      <td>0.000000</td>\n",
              "      <td>0.000000</td>\n",
              "      <td>0.0</td>\n",
              "      <td>0.0</td>\n",
              "      <td>0.0</td>\n",
              "      <td>0.0</td>\n",
              "      <td>0.0</td>\n",
              "      <td>0.000000</td>\n",
              "      <td>0.000000</td>\n",
              "      <td>0.000000</td>\n",
              "      <td>0.000000</td>\n",
              "      <td>0.000000</td>\n",
              "      <td>0.0</td>\n",
              "      <td>0.0</td>\n",
              "      <td>0.0</td>\n",
              "      <td>0.0</td>\n",
              "      <td>0.00000</td>\n",
              "      <td>0.000000</td>\n",
              "      <td>0.000000</td>\n",
              "      <td>0.000000</td>\n",
              "      <td>0.0</td>\n",
              "      <td>0.0</td>\n",
              "      <td>0.0</td>\n",
              "      <td>0.0</td>\n",
              "      <td>0.0</td>\n",
              "      <td>0.0</td>\n",
              "      <td>0.000000</td>\n",
              "      <td>0.000000</td>\n",
              "      <td>0.0</td>\n",
              "      <td>0.0</td>\n",
              "      <td>0.0</td>\n",
              "      <td>0.0</td>\n",
              "      <td>0.0</td>\n",
              "      <td>0.0</td>\n",
              "      <td>0.0</td>\n",
              "      <td>0.0</td>\n",
              "      <td>...</td>\n",
              "      <td>0.0</td>\n",
              "      <td>0.0</td>\n",
              "      <td>0.0</td>\n",
              "      <td>0.0</td>\n",
              "      <td>0.0</td>\n",
              "      <td>0.0</td>\n",
              "      <td>0.0</td>\n",
              "      <td>0.0</td>\n",
              "      <td>0.0</td>\n",
              "      <td>0.0</td>\n",
              "      <td>0.0</td>\n",
              "      <td>0.0</td>\n",
              "      <td>0.0</td>\n",
              "      <td>0.0</td>\n",
              "      <td>0.0</td>\n",
              "      <td>0.0</td>\n",
              "      <td>0.0</td>\n",
              "      <td>0.0</td>\n",
              "      <td>0.0</td>\n",
              "      <td>0.007743</td>\n",
              "      <td>9.679413</td>\n",
              "      <td>0.893749</td>\n",
              "      <td>45.822831</td>\n",
              "      <td>0.372521</td>\n",
              "      <td>153.012016</td>\n",
              "      <td>173.611911</td>\n",
              "      <td>5.275578</td>\n",
              "      <td>7.715428</td>\n",
              "      <td>0.001931</td>\n",
              "      <td>2.721910</td>\n",
              "      <td>-0.248826</td>\n",
              "      <td>0.930371</td>\n",
              "      <td>0.002141</td>\n",
              "      <td>2.549876e-09</td>\n",
              "      <td>1.263506e-12</td>\n",
              "      <td>3.164047e-12</td>\n",
              "      <td>-3.063017e-24</td>\n",
              "      <td>3.203858e-17</td>\n",
              "      <td>-5.535397e-24</td>\n",
              "      <td>AnnualCrop</td>\n",
              "    </tr>\n",
              "  </tbody>\n",
              "</table>\n",
              "<p>5 rows × 533 columns</p>\n",
              "</div>"
            ],
            "text/plain": [
              "   color_0  color_1   color_2  ...          Hu_5          Hu_6       label\n",
              "0      0.0      0.0  0.000429  ... -1.499442e-18 -1.707315e-26  AnnualCrop\n",
              "1      0.0      0.0  0.000000  ... -1.753889e-15  1.155135e-21  AnnualCrop\n",
              "2      0.0      0.0  0.000000  ...  1.639691e-16 -5.577083e-25  AnnualCrop\n",
              "3      0.0      0.0  0.000000  ... -1.877223e-18  9.834228e-25  AnnualCrop\n",
              "4      0.0      0.0  0.000000  ...  3.203858e-17 -5.535397e-24  AnnualCrop\n",
              "\n",
              "[5 rows x 533 columns]"
            ]
          },
          "metadata": {
            "tags": []
          },
          "execution_count": 28
        }
      ]
    },
    {
      "cell_type": "markdown",
      "metadata": {
        "id": "0OwXxbzGuoHh"
      },
      "source": [
        "**Enlistando las categorías de las imágenes**"
      ]
    },
    {
      "cell_type": "code",
      "metadata": {
        "colab": {
          "base_uri": "https://localhost:8080/"
        },
        "id": "PReLAPuHClkm",
        "outputId": "3745d9ec-1d5a-4ffd-8d82-0f06bc284631"
      },
      "source": [
        "clases = train_df['label'].unique().tolist()\r\n",
        "n_clases = len(clases)\r\n",
        "print(clases)"
      ],
      "execution_count": 29,
      "outputs": [
        {
          "output_type": "stream",
          "text": [
            "['AnnualCrop', 'Forest', 'HerbaceousVegetation', 'Highway', 'Industrial', 'Pasture', 'PermanentCrop', 'Residential', 'River', 'SeaLake']\n"
          ],
          "name": "stdout"
        }
      ]
    },
    {
      "cell_type": "markdown",
      "metadata": {
        "id": "uxbL2ayKu1eb"
      },
      "source": [
        "**Visualizando distribución de clases**"
      ]
    },
    {
      "cell_type": "code",
      "metadata": {
        "colab": {
          "base_uri": "https://localhost:8080/",
          "height": 442
        },
        "id": "hge_OiNUu6rp",
        "outputId": "2bc84f8d-5b2b-49a4-f29c-c4e92a8a6f71"
      },
      "source": [
        "fig, ax =plt.subplots(figsize=(16,5))\r\n",
        "sns.countplot('label', data=train_df)\r\n",
        "plt.title('Distribucion de clases de Eurosat')\r\n",
        "plt.xlabel('Clase', fontsize=14)\r\n",
        "plt.ylabel('# de imágenes', fontsize=14)\r\n",
        "plt.show()"
      ],
      "execution_count": 55,
      "outputs": [
        {
          "output_type": "stream",
          "text": [
            "/usr/local/lib/python3.7/dist-packages/seaborn/_decorators.py:43: FutureWarning:\n",
            "\n",
            "Pass the following variable as a keyword arg: x. From version 0.12, the only valid positional argument will be `data`, and passing other arguments without an explicit keyword will result in an error or misinterpretation.\n",
            "\n"
          ],
          "name": "stderr"
        },
        {
          "output_type": "display_data",
          "data": {
            "image/png": "[encoded data removed]",
            "text/plain": [
              "<Figure size 1152x360 with 1 Axes>"
            ]
          },
          "metadata": {
            "tags": [],
            "needs_background": "light"
          }
        }
      ]
    },
    {
      "cell_type": "markdown",
      "metadata": {
        "id": "dlrvTX6us1Ks"
      },
      "source": [
        "**Cálculando los pesos ponderados**"
      ]
    },
    {
      "cell_type": "code",
      "metadata": {
        "colab": {
          "base_uri": "https://localhost:8080/"
        },
        "id": "hOFXeBOyDHDU",
        "outputId": "21fd1b5c-d570-43dd-871f-3395fba140bb"
      },
      "source": [
        "pesos = train_df['label'].value_counts().sort_index().tolist()/ np.sum(train_df['label'].value_counts().tolist())\r\n",
        "print(pesos)"
      ],
      "execution_count": 30,
      "outputs": [
        {
          "output_type": "stream",
          "text": [
            "[0.11111111 0.11111111 0.11111111 0.09259259 0.09259259 0.07407407\n",
            " 0.09259259 0.11111111 0.09259259 0.11111111]\n"
          ],
          "name": "stdout"
        }
      ]
    },
    {
      "cell_type": "markdown",
      "metadata": {
        "id": "90Oh3_VJtDIn"
      },
      "source": [
        "# 3. Codificación de las etiquetas y escalamiento"
      ]
    },
    {
      "cell_type": "markdown",
      "metadata": {
        "id": "xC1RbwjtvTy5"
      },
      "source": [
        "**Codificación de etiquetas de la columna label**"
      ]
    },
    {
      "cell_type": "code",
      "metadata": {
        "id": "2YquN3Uv-NQ7"
      },
      "source": [
        "le = LabelEncoder()\r\n",
        "train_df['label'] = le.fit_transform(train_df.label.values)"
      ],
      "execution_count": 31,
      "outputs": []
    },
    {
      "cell_type": "markdown",
      "metadata": {
        "id": "ZL58H2ccvZV6"
      },
      "source": [
        "**Escalamiento de las características de 0 a 1**"
      ]
    },
    {
      "cell_type": "code",
      "metadata": {
        "id": "ZBbW1r64-hOx"
      },
      "source": [
        "scaler = MinMaxScaler(feature_range=(0, 1))\r\n",
        "train_df.loc[:, train_df.columns != 'label'] = scaler.fit_transform(train_df.loc[:, train_df.columns != 'label'])"
      ],
      "execution_count": 32,
      "outputs": []
    },
    {
      "cell_type": "markdown",
      "metadata": {
        "id": "XLXzLV0ntJ-K"
      },
      "source": [
        "# 4. Análisis de componentes principales"
      ]
    },
    {
      "cell_type": "markdown",
      "metadata": {
        "id": "9qsgqXQ9vfvS"
      },
      "source": [
        "**Análisis PCA con el 95% de varianza acumulada**"
      ]
    },
    {
      "cell_type": "code",
      "metadata": {
        "id": "q-systhk-jmx"
      },
      "source": [
        "pca = PCA(0.95)\r\n",
        "pc = pca.fit_transform(train_df.iloc[:,:-1])\r\n",
        "df_pca = pd.DataFrame(data = pc,\r\n",
        "                           columns=range(pc.shape[1]))\r\n",
        "df_pca = pd.concat([df_pca, train_df.iloc[:,-1]], axis = 1)"
      ],
      "execution_count": 33,
      "outputs": []
    },
    {
      "cell_type": "code",
      "metadata": {
        "colab": {
          "base_uri": "https://localhost:8080/"
        },
        "id": "-yjYiCuq_gLn",
        "outputId": "4b76b0ec-49e8-40c9-be64-87393c7c58df"
      },
      "source": [
        "print('Número de componentes principales: %s'%len(pca.explained_variance_ratio_))\r\n",
        "print('Varianza acumulada con %s componentes: %s'%(len(pca.explained_variance_ratio_),np.sum(pca.explained_variance_ratio_)))"
      ],
      "execution_count": 34,
      "outputs": [
        {
          "output_type": "stream",
          "text": [
            "Número de componentes principales: 41\n",
            "Varianza acumulada con 41 componentes: 0.9519162466783112\n"
          ],
          "name": "stdout"
        }
      ]
    },
    {
      "cell_type": "code",
      "metadata": {
        "colab": {
          "base_uri": "https://localhost:8080/",
          "height": 215
        },
        "id": "sAlYigOD_qba",
        "outputId": "df980854-2ed1-410b-8334-521588af3bd1"
      },
      "source": [
        "df_pca.head()"
      ],
      "execution_count": 35,
      "outputs": [
        {
          "output_type": "execute_result",
          "data": {
            "text/html": [
              "<div>\n",
              "<style scoped>\n",
              "    .dataframe tbody tr th:only-of-type {\n",
              "        vertical-align: middle;\n",
              "    }\n",
              "\n",
              "    .dataframe tbody tr th {\n",
              "        vertical-align: top;\n",
              "    }\n",
              "\n",
              "    .dataframe thead th {\n",
              "        text-align: right;\n",
              "    }\n",
              "</style>\n",
              "<table border=\"1\" class=\"dataframe\">\n",
              "  <thead>\n",
              "    <tr style=\"text-align: right;\">\n",
              "      <th></th>\n",
              "      <th>0</th>\n",
              "      <th>1</th>\n",
              "      <th>2</th>\n",
              "      <th>3</th>\n",
              "      <th>4</th>\n",
              "      <th>5</th>\n",
              "      <th>6</th>\n",
              "      <th>7</th>\n",
              "      <th>8</th>\n",
              "      <th>9</th>\n",
              "      <th>10</th>\n",
              "      <th>11</th>\n",
              "      <th>12</th>\n",
              "      <th>13</th>\n",
              "      <th>14</th>\n",
              "      <th>15</th>\n",
              "      <th>16</th>\n",
              "      <th>17</th>\n",
              "      <th>18</th>\n",
              "      <th>19</th>\n",
              "      <th>20</th>\n",
              "      <th>21</th>\n",
              "      <th>22</th>\n",
              "      <th>23</th>\n",
              "      <th>24</th>\n",
              "      <th>25</th>\n",
              "      <th>26</th>\n",
              "      <th>27</th>\n",
              "      <th>28</th>\n",
              "      <th>29</th>\n",
              "      <th>30</th>\n",
              "      <th>31</th>\n",
              "      <th>32</th>\n",
              "      <th>33</th>\n",
              "      <th>34</th>\n",
              "      <th>35</th>\n",
              "      <th>36</th>\n",
              "      <th>37</th>\n",
              "      <th>38</th>\n",
              "      <th>39</th>\n",
              "      <th>40</th>\n",
              "      <th>label</th>\n",
              "    </tr>\n",
              "  </thead>\n",
              "  <tbody>\n",
              "    <tr>\n",
              "      <th>0</th>\n",
              "      <td>0.021655</td>\n",
              "      <td>0.273502</td>\n",
              "      <td>0.102364</td>\n",
              "      <td>0.061546</td>\n",
              "      <td>0.089783</td>\n",
              "      <td>0.007629</td>\n",
              "      <td>-0.261941</td>\n",
              "      <td>0.180699</td>\n",
              "      <td>0.442403</td>\n",
              "      <td>-0.172650</td>\n",
              "      <td>-0.224836</td>\n",
              "      <td>0.114530</td>\n",
              "      <td>-0.034808</td>\n",
              "      <td>0.067837</td>\n",
              "      <td>0.423538</td>\n",
              "      <td>-0.024386</td>\n",
              "      <td>0.110547</td>\n",
              "      <td>-0.141101</td>\n",
              "      <td>0.086321</td>\n",
              "      <td>0.173991</td>\n",
              "      <td>0.115570</td>\n",
              "      <td>-0.009393</td>\n",
              "      <td>0.004314</td>\n",
              "      <td>0.066414</td>\n",
              "      <td>0.173194</td>\n",
              "      <td>0.185844</td>\n",
              "      <td>-0.125586</td>\n",
              "      <td>0.234926</td>\n",
              "      <td>0.028541</td>\n",
              "      <td>-0.153793</td>\n",
              "      <td>-0.054382</td>\n",
              "      <td>0.205413</td>\n",
              "      <td>0.176103</td>\n",
              "      <td>0.293958</td>\n",
              "      <td>0.099149</td>\n",
              "      <td>-0.171007</td>\n",
              "      <td>0.026776</td>\n",
              "      <td>-0.027670</td>\n",
              "      <td>0.016856</td>\n",
              "      <td>-0.026743</td>\n",
              "      <td>-0.087473</td>\n",
              "      <td>0</td>\n",
              "    </tr>\n",
              "    <tr>\n",
              "      <th>1</th>\n",
              "      <td>0.622296</td>\n",
              "      <td>0.002815</td>\n",
              "      <td>-0.496311</td>\n",
              "      <td>-0.323319</td>\n",
              "      <td>-0.172456</td>\n",
              "      <td>-0.305126</td>\n",
              "      <td>-0.063467</td>\n",
              "      <td>0.060499</td>\n",
              "      <td>0.024346</td>\n",
              "      <td>-0.127143</td>\n",
              "      <td>-0.148231</td>\n",
              "      <td>0.024083</td>\n",
              "      <td>-0.133093</td>\n",
              "      <td>-0.027994</td>\n",
              "      <td>-0.078458</td>\n",
              "      <td>-0.019692</td>\n",
              "      <td>0.027015</td>\n",
              "      <td>-0.026253</td>\n",
              "      <td>-0.005554</td>\n",
              "      <td>-0.032456</td>\n",
              "      <td>-0.013783</td>\n",
              "      <td>0.008256</td>\n",
              "      <td>0.001326</td>\n",
              "      <td>-0.024357</td>\n",
              "      <td>0.005001</td>\n",
              "      <td>-0.035209</td>\n",
              "      <td>-0.017449</td>\n",
              "      <td>-0.047436</td>\n",
              "      <td>-0.092008</td>\n",
              "      <td>-0.011180</td>\n",
              "      <td>-0.058675</td>\n",
              "      <td>0.005498</td>\n",
              "      <td>-0.009579</td>\n",
              "      <td>0.030639</td>\n",
              "      <td>0.017519</td>\n",
              "      <td>0.004390</td>\n",
              "      <td>0.006389</td>\n",
              "      <td>0.000383</td>\n",
              "      <td>-0.037476</td>\n",
              "      <td>0.017778</td>\n",
              "      <td>0.011162</td>\n",
              "      <td>0</td>\n",
              "    </tr>\n",
              "    <tr>\n",
              "      <th>2</th>\n",
              "      <td>-0.423656</td>\n",
              "      <td>0.636943</td>\n",
              "      <td>0.034199</td>\n",
              "      <td>-0.211894</td>\n",
              "      <td>0.302205</td>\n",
              "      <td>-0.096718</td>\n",
              "      <td>0.135345</td>\n",
              "      <td>0.042499</td>\n",
              "      <td>-0.274190</td>\n",
              "      <td>0.003008</td>\n",
              "      <td>0.143233</td>\n",
              "      <td>0.423902</td>\n",
              "      <td>-0.199390</td>\n",
              "      <td>-0.093691</td>\n",
              "      <td>0.064369</td>\n",
              "      <td>0.001861</td>\n",
              "      <td>0.106781</td>\n",
              "      <td>-0.162592</td>\n",
              "      <td>-0.220757</td>\n",
              "      <td>-0.033265</td>\n",
              "      <td>0.086973</td>\n",
              "      <td>0.079839</td>\n",
              "      <td>-0.061395</td>\n",
              "      <td>0.089294</td>\n",
              "      <td>0.052680</td>\n",
              "      <td>0.153785</td>\n",
              "      <td>0.089078</td>\n",
              "      <td>-0.114030</td>\n",
              "      <td>0.008174</td>\n",
              "      <td>0.025037</td>\n",
              "      <td>0.018815</td>\n",
              "      <td>0.014213</td>\n",
              "      <td>0.001636</td>\n",
              "      <td>-0.061935</td>\n",
              "      <td>-0.039565</td>\n",
              "      <td>-0.030199</td>\n",
              "      <td>-0.001254</td>\n",
              "      <td>0.089498</td>\n",
              "      <td>-0.017474</td>\n",
              "      <td>-0.039086</td>\n",
              "      <td>0.022252</td>\n",
              "      <td>0</td>\n",
              "    </tr>\n",
              "    <tr>\n",
              "      <th>3</th>\n",
              "      <td>-0.269740</td>\n",
              "      <td>0.527962</td>\n",
              "      <td>-0.008303</td>\n",
              "      <td>-0.093053</td>\n",
              "      <td>0.371391</td>\n",
              "      <td>-0.149039</td>\n",
              "      <td>-0.078730</td>\n",
              "      <td>0.035853</td>\n",
              "      <td>-0.132790</td>\n",
              "      <td>0.013478</td>\n",
              "      <td>-0.244529</td>\n",
              "      <td>0.084268</td>\n",
              "      <td>0.331820</td>\n",
              "      <td>-0.367814</td>\n",
              "      <td>0.058389</td>\n",
              "      <td>-0.297845</td>\n",
              "      <td>0.057514</td>\n",
              "      <td>0.177385</td>\n",
              "      <td>0.228286</td>\n",
              "      <td>0.311967</td>\n",
              "      <td>0.018471</td>\n",
              "      <td>-0.077127</td>\n",
              "      <td>-0.362935</td>\n",
              "      <td>-0.277048</td>\n",
              "      <td>-0.287764</td>\n",
              "      <td>-0.123875</td>\n",
              "      <td>-0.128897</td>\n",
              "      <td>0.038713</td>\n",
              "      <td>-0.010891</td>\n",
              "      <td>-0.019303</td>\n",
              "      <td>-0.039510</td>\n",
              "      <td>-0.077868</td>\n",
              "      <td>-0.051809</td>\n",
              "      <td>0.030791</td>\n",
              "      <td>0.010303</td>\n",
              "      <td>-0.063006</td>\n",
              "      <td>0.107078</td>\n",
              "      <td>0.074498</td>\n",
              "      <td>0.006476</td>\n",
              "      <td>-0.048601</td>\n",
              "      <td>0.011595</td>\n",
              "      <td>0</td>\n",
              "    </tr>\n",
              "    <tr>\n",
              "      <th>4</th>\n",
              "      <td>0.320276</td>\n",
              "      <td>0.251265</td>\n",
              "      <td>-0.457422</td>\n",
              "      <td>0.462987</td>\n",
              "      <td>-0.182128</td>\n",
              "      <td>-0.239392</td>\n",
              "      <td>0.289217</td>\n",
              "      <td>-0.188322</td>\n",
              "      <td>0.203603</td>\n",
              "      <td>-0.203343</td>\n",
              "      <td>-0.144228</td>\n",
              "      <td>0.100569</td>\n",
              "      <td>-0.045847</td>\n",
              "      <td>-0.040164</td>\n",
              "      <td>-0.145697</td>\n",
              "      <td>-0.105348</td>\n",
              "      <td>-0.031246</td>\n",
              "      <td>-0.035405</td>\n",
              "      <td>0.041241</td>\n",
              "      <td>-0.073813</td>\n",
              "      <td>0.023655</td>\n",
              "      <td>0.009348</td>\n",
              "      <td>-0.028434</td>\n",
              "      <td>0.012820</td>\n",
              "      <td>0.012869</td>\n",
              "      <td>-0.024933</td>\n",
              "      <td>0.022915</td>\n",
              "      <td>0.039709</td>\n",
              "      <td>-0.089881</td>\n",
              "      <td>0.043477</td>\n",
              "      <td>-0.143426</td>\n",
              "      <td>-0.056254</td>\n",
              "      <td>0.082285</td>\n",
              "      <td>0.008452</td>\n",
              "      <td>0.004522</td>\n",
              "      <td>0.013692</td>\n",
              "      <td>-0.027097</td>\n",
              "      <td>0.002386</td>\n",
              "      <td>-0.021962</td>\n",
              "      <td>-0.027664</td>\n",
              "      <td>0.016525</td>\n",
              "      <td>0</td>\n",
              "    </tr>\n",
              "  </tbody>\n",
              "</table>\n",
              "</div>"
            ],
            "text/plain": [
              "          0         1         2         3  ...        38        39        40  label\n",
              "0  0.021655  0.273502  0.102364  0.061546  ...  0.016856 -0.026743 -0.087473      0\n",
              "1  0.622296  0.002815 -0.496311 -0.323319  ... -0.037476  0.017778  0.011162      0\n",
              "2 -0.423656  0.636943  0.034199 -0.211894  ... -0.017474 -0.039086  0.022252      0\n",
              "3 -0.269740  0.527962 -0.008303 -0.093053  ...  0.006476 -0.048601  0.011595      0\n",
              "4  0.320276  0.251265 -0.457422  0.462987  ... -0.021962 -0.027664  0.016525      0\n",
              "\n",
              "[5 rows x 42 columns]"
            ]
          },
          "metadata": {
            "tags": []
          },
          "execution_count": 35
        }
      ]
    },
    {
      "cell_type": "markdown",
      "metadata": {
        "id": "mvbhsfjp2PBS"
      },
      "source": [
        "# 5. Validación para los modelos"
      ]
    },
    {
      "cell_type": "markdown",
      "metadata": {
        "id": "3nuGdxF-vscU"
      },
      "source": [
        "**Dividiendo las características (vars indeps) de la etiqueta (var dep)**"
      ]
    },
    {
      "cell_type": "code",
      "metadata": {
        "id": "5tkEbn3ZA_h5"
      },
      "source": [
        "X = np.array(df_pca.iloc[:,:-1]) \r\n",
        "y = np.array(df_pca['label']) "
      ],
      "execution_count": 21,
      "outputs": []
    },
    {
      "cell_type": "markdown",
      "metadata": {
        "id": "cycha8m7v2no"
      },
      "source": [
        "**Hold- Out validation con 20% de datos para prueba**"
      ]
    },
    {
      "cell_type": "code",
      "metadata": {
        "colab": {
          "base_uri": "https://localhost:8080/"
        },
        "id": "N0NGI4YOraKD",
        "outputId": "12c6bcee-61a7-4273-8932-79e3f12667ab"
      },
      "source": [
        "X_train, X_test, y_train, y_test = train_test_split(X, y, test_size = 0.2, random_state = 0, shuffle=True)\r\n",
        "\r\n",
        "print(f'Dimension de los datos de entrenamiento {X_train.shape}')\r\n",
        "print(f'Dimension de los datos de prueba {X_test.shape}')"
      ],
      "execution_count": 37,
      "outputs": [
        {
          "output_type": "stream",
          "text": [
            "Dimension de los datos de entrenamiento (21600, 41)\n",
            "Dimension de los datos de prueba (5400, 41)\n"
          ],
          "name": "stdout"
        }
      ]
    },
    {
      "cell_type": "markdown",
      "metadata": {
        "id": "0EbychIC2lC2"
      },
      "source": [
        "# 6. Árbol de decisión (baseline)"
      ]
    },
    {
      "cell_type": "markdown",
      "metadata": {
        "id": "QpPj2joBwAgf"
      },
      "source": [
        "**Creación de nuestro modelo sencillo con 5 niveles de decisión, de aquí partimos**"
      ]
    },
    {
      "cell_type": "code",
      "metadata": {
        "id": "rPEWXdVqBho4"
      },
      "source": [
        "cart =  DecisionTreeClassifier(max_depth=5)\r\n",
        "kfold = KFold(n_splits=10, shuffle=True)"
      ],
      "execution_count": 39,
      "outputs": []
    },
    {
      "cell_type": "markdown",
      "metadata": {
        "id": "c301zPlHwH-N"
      },
      "source": [
        "**Entrenamiento con los datos de entrenamiento**"
      ]
    },
    {
      "cell_type": "code",
      "metadata": {
        "id": "msMrKTMwp2_u"
      },
      "source": [
        "cart = cart.fit(X_train, y_train)"
      ],
      "execution_count": 40,
      "outputs": []
    },
    {
      "cell_type": "markdown",
      "metadata": {
        "id": "VeJgeSNbwRHb"
      },
      "source": [
        "**Score de entrenmiento**"
      ]
    },
    {
      "cell_type": "code",
      "metadata": {
        "colab": {
          "base_uri": "https://localhost:8080/"
        },
        "id": "9FME8DSjsN6P",
        "outputId": "03a0c566-a4c8-4f8c-c8e6-7aa0cc45be78"
      },
      "source": [
        "cart.score(X_train,y_train)"
      ],
      "execution_count": 44,
      "outputs": [
        {
          "output_type": "execute_result",
          "data": {
            "text/plain": [
              "0.5793055555555555"
            ]
          },
          "metadata": {
            "tags": []
          },
          "execution_count": 44
        }
      ]
    },
    {
      "cell_type": "markdown",
      "metadata": {
        "id": "-wyyiLJ8wVNx"
      },
      "source": [
        "**Obteniendo las predicciones**"
      ]
    },
    {
      "cell_type": "code",
      "metadata": {
        "id": "H5AvYKA4r_fi"
      },
      "source": [
        "y_pred = cart.predict(X_test)"
      ],
      "execution_count": 41,
      "outputs": []
    },
    {
      "cell_type": "markdown",
      "metadata": {
        "id": "icvmOwQDwYfr"
      },
      "source": [
        "**Score de los datos de prueba i.e. los predichos**"
      ]
    },
    {
      "cell_type": "code",
      "metadata": {
        "colab": {
          "base_uri": "https://localhost:8080/"
        },
        "id": "tH5hvxlysFQ_",
        "outputId": "9f97aeea-7a4d-47a4-e5cd-6eeb5a9ed01a"
      },
      "source": [
        "score = metrics.accuracy_score(y_test, y_pred)\r\n",
        "print(\"Test Acc: %s\"%score)"
      ],
      "execution_count": 42,
      "outputs": [
        {
          "output_type": "stream",
          "text": [
            "Test Acc: 0.5677777777777778\n"
          ],
          "name": "stdout"
        }
      ]
    },
    {
      "cell_type": "markdown",
      "metadata": {
        "id": "e747TURbwg9q"
      },
      "source": [
        "**Matri de confusión**"
      ]
    },
    {
      "cell_type": "code",
      "metadata": {
        "id": "hXc8n38UADt1"
      },
      "source": [
        "def plot_confusion_matrix(cm, classes, tit, normalize=False):\r\n",
        "    if normalize:\r\n",
        "        cm = cm.astype('float')/cm.sum(axis=1)\r\n",
        "        title, fmt = 'Matriz de confusión normalizada', '.2f'\r\n",
        "    else:\r\n",
        "        title, fmt = tit, 'd'\r\n",
        "    plt.figure(figsize=(10,8))\r\n",
        "    plt.imshow(cm, interpolation='nearest', cmap=plt.cm.Blues)\r\n",
        "    plt.title(title)#, fontsize=12)\r\n",
        "    plt.colorbar(pad=0.05)\r\n",
        "    tick_marks = np.arange(len(classes))\r\n",
        "    plt.xticks(tick_marks, classes, rotation=40)\r\n",
        "    plt.yticks(tick_marks, classes)\r\n",
        "    thresh = cm.max()/2.\r\n",
        "    for i, j in itertools.product(range(cm.shape[0]), range(cm.shape[1])):\r\n",
        "        plt.text(j, i, format(cm[i, j], fmt),horizontalalignment=\"center\", \r\n",
        "                 color=\"white\" if cm[i, j] > thresh else \"black\")\r\n",
        "    plt.tight_layout()\r\n",
        "    plt.ylabel('Clase Verdadera')\r\n",
        "    plt.xlabel('Clase Predicha')\r\n",
        "    plt.savefig(title+'.png')\r\n",
        "    plt.grid(False)\r\n",
        "    plt.show()"
      ],
      "execution_count": 45,
      "outputs": []
    },
    {
      "cell_type": "markdown",
      "metadata": {
        "id": "aZSaMAVPwlY2"
      },
      "source": [
        "**¿Qué observamos?**"
      ]
    },
    {
      "cell_type": "code",
      "metadata": {
        "colab": {
          "base_uri": "https://localhost:8080/",
          "height": 599
        },
        "id": "hOwjMuajBrIs",
        "outputId": "f0d8873d-0c95-46b5-e18c-cd594ec4e7c2"
      },
      "source": [
        "cnf_matrix = confusion_matrix(y_test, y_pred, labels=range(n_clases))\r\n",
        "tit = 'Matriz de confusión CART'\r\n",
        "plot_confusion_matrix(cnf_matrix,clases, tit, normalize=False)"
      ],
      "execution_count": 46,
      "outputs": [
        {
          "output_type": "display_data",
          "data": {
            "image/png": "[encoded data removed]",
            "text/plain": [
              "<Figure size 720x576 with 2 Axes>"
            ]
          },
          "metadata": {
            "tags": [],
            "needs_background": "light"
          }
        }
      ]
    },
    {
      "cell_type": "markdown",
      "metadata": {
        "id": "8J-naHyZ2tUy"
      },
      "source": [
        "# ¿Cuántos weak learners son necesarios?"
      ]
    },
    {
      "cell_type": "code",
      "metadata": {
        "id": "hA46zz_wCCQo",
        "colab": {
          "base_uri": "https://localhost:8080/"
        },
        "outputId": "a70e6528-22b8-4147-8068-467e398589ac"
      },
      "source": [
        "Xclassifiers = []\r\n",
        "Yscore = []\r\n",
        "\r\n",
        "# Arbol de decisión sencillo\r\n",
        "cart =  DecisionTreeClassifier(max_depth=5)\r\n",
        "for i in range(500):\r\n",
        "  if i%100 == 0:\r\n",
        "    # En cada iteración, se creará una adaboost con i+1 árboles sencillos\r\n",
        "    boost = AdaBoostClassifier(base_estimator=cart, n_estimators=i+1)\r\n",
        "    # Entrenando el modelo\r\n",
        "    boost = boost.fit(X_train, y_train)\r\n",
        "    # Prediciendo los de prueba\r\n",
        "    preds = boost.predict(X_test)\r\n",
        "    # Score de prueba\r\n",
        "    score = metrics.accuracy_score(y_test, preds)\r\n",
        "    Yscore.append(score)\r\n",
        "    Xclassifiers.append(i+1)\r\n",
        "    print(\"iter: %s, score: %s\"%(i+1,np.mean(score)))\r\n"
      ],
      "execution_count": 47,
      "outputs": [
        {
          "output_type": "stream",
          "text": [
            "iter: 1, score: 0.5675925925925925\n",
            "iter: 101, score: 0.705925925925926\n",
            "iter: 201, score: 0.7411111111111112\n",
            "iter: 301, score: 0.762962962962963\n",
            "iter: 401, score: 0.7737037037037037\n"
          ],
          "name": "stdout"
        }
      ]
    },
    {
      "cell_type": "code",
      "metadata": {
        "colab": {
          "base_uri": "https://localhost:8080/",
          "height": 312
        },
        "id": "_9KOojUJC2Zi",
        "outputId": "d9f3fab3-0e39-45da-cb01-680bf37b906b"
      },
      "source": [
        "plt.figure()\r\n",
        "plt.plot(Xclassifiers, Yscore, lw=2)\r\n",
        "plt.xlabel('Clasificadores')\r\n",
        "plt.ylabel('Score Promedio')\r\n",
        "plt.title('Score vs Classificadores: AdaBoost + CART')\r\n",
        "print(\"Score máximo alcanzado: \",np.max(Yscore)) \r\n",
        "plt.grid()\r\n",
        "plt.show() "
      ],
      "execution_count": 48,
      "outputs": [
        {
          "output_type": "stream",
          "text": [
            "0.7737037037037037\n"
          ],
          "name": "stdout"
        },
        {
          "output_type": "display_data",
          "data": {
            "image/png": "[encoded data removed]",
            "text/plain": [
              "<Figure size 432x288 with 1 Axes>"
            ]
          },
          "metadata": {
            "tags": [],
            "needs_background": "light"
          }
        }
      ]
    },
    {
      "cell_type": "markdown",
      "metadata": {
        "id": "Ps9Ghdx9rSyu"
      },
      "source": [
        "# 7. Boosting con CART"
      ]
    },
    {
      "cell_type": "markdown",
      "metadata": {
        "id": "pOc0LAEXxUG9"
      },
      "source": [
        "**Creando nuestro clasificador de Boosting**"
      ]
    },
    {
      "cell_type": "code",
      "metadata": {
        "id": "I3sCrksfERa2"
      },
      "source": [
        "cart = DecisionTreeClassifier(max_depth=5)\r\n",
        "boost = AdaBoostClassifier(base_estimator=cart, n_estimators=800)"
      ],
      "execution_count": 49,
      "outputs": []
    },
    {
      "cell_type": "markdown",
      "metadata": {
        "id": "Gfsg-G5NxbGw"
      },
      "source": [
        "**Entrenando al clasificador**"
      ]
    },
    {
      "cell_type": "code",
      "metadata": {
        "id": "HapcRz3mEUIW"
      },
      "source": [
        "boost = boost.fit(X_train, y_train)"
      ],
      "execution_count": 50,
      "outputs": []
    },
    {
      "cell_type": "markdown",
      "metadata": {
        "id": "Q29u0j0WxgO4"
      },
      "source": [
        "**Score de entrenamiento**"
      ]
    },
    {
      "cell_type": "code",
      "metadata": {
        "colab": {
          "base_uri": "https://localhost:8080/"
        },
        "id": "lCvQjoBxuGRj",
        "outputId": "f794ff8b-b13f-47a6-879f-91744fd43129"
      },
      "source": [
        "boost.score(X_train,y_train)"
      ],
      "execution_count": 51,
      "outputs": [
        {
          "output_type": "execute_result",
          "data": {
            "text/plain": [
              "0.8696759259259259"
            ]
          },
          "metadata": {
            "tags": []
          },
          "execution_count": 51
        }
      ]
    },
    {
      "cell_type": "markdown",
      "metadata": {
        "id": "Mn0Yuqr5xkAW"
      },
      "source": [
        "**Predicciones**"
      ]
    },
    {
      "cell_type": "code",
      "metadata": {
        "id": "EgoQ5MIsEUh0"
      },
      "source": [
        "y_pred = boost.predict(X_test)"
      ],
      "execution_count": 52,
      "outputs": []
    },
    {
      "cell_type": "markdown",
      "metadata": {
        "id": "oCSbY681xmyd"
      },
      "source": [
        "**Score de prueba**"
      ]
    },
    {
      "cell_type": "code",
      "metadata": {
        "colab": {
          "base_uri": "https://localhost:8080/"
        },
        "id": "uSNC8Ntjt7UO",
        "outputId": "14342417-db00-4a50-e89a-eaa684bc6bab"
      },
      "source": [
        "score = metrics.accuracy_score(y_test, y_pred)\r\n",
        "score"
      ],
      "execution_count": 53,
      "outputs": [
        {
          "output_type": "execute_result",
          "data": {
            "text/plain": [
              "0.794074074074074"
            ]
          },
          "metadata": {
            "tags": []
          },
          "execution_count": 53
        }
      ]
    },
    {
      "cell_type": "markdown",
      "metadata": {
        "id": "2h0mOai9xsVB"
      },
      "source": [
        "**Matriz de confusión**"
      ]
    },
    {
      "cell_type": "code",
      "metadata": {
        "id": "qgI7UNY5EZm5",
        "colab": {
          "base_uri": "https://localhost:8080/",
          "height": 599
        },
        "outputId": "d4978aa2-e03c-40a0-a929-d67afd54cd37"
      },
      "source": [
        "cnf_matrix = confusion_matrix(y_test, y_pred, labels=range(n_clases))\r\n",
        "tit = 'Matriz de confusión AdaBoost'\r\n",
        "plot_confusion_matrix(cnf_matrix,clases, tit, normalize=False)"
      ],
      "execution_count": 54,
      "outputs": [
        {
          "output_type": "display_data",
          "data": {
            "image/png": "[encoded data removed]",
            "text/plain": [
              "<Figure size 720x576 with 2 Axes>"
            ]
          },
          "metadata": {
            "tags": [],
            "needs_background": "light"
          }
        }
      ]
    },
    {
      "cell_type": "code",
      "metadata": {
        "id": "Su1m8CIy_iE6"
      },
      "source": [
        ""
      ],
      "execution_count": null,
      "outputs": []
    }
  ]
}