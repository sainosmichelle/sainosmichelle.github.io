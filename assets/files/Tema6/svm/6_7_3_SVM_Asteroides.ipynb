{
  "nbformat": 4,
  "nbformat_minor": 0,
  "metadata": {
    "colab": {
      "name": "6.7.3 SVM_Asteroides.ipynb",
      "provenance": [],
      "collapsed_sections": []
    },
    "kernelspec": {
      "name": "python3",
      "display_name": "Python 3"
    }
  },
  "cells": [
    {
      "cell_type": "markdown",
      "metadata": {
        "id": "Ell6Q7uy-ylQ"
      },
      "source": [
        "# SVM  para clasificación de asteroides\r\n",
        "\r\n"
      ]
    },
    {
      "cell_type": "markdown",
      "metadata": {
        "id": "OWRUx4ZQbXjQ"
      },
      "source": [
        "**Objetivo:** Clasificación de asteroides detectados por la NASA como peligrosos (Hazardous) y no peligrosos (Not Hazardous)\r\n",
        "\r\n",
        "**Información del dataset**\r\n",
        "\r\n",
        "NeoWs (Near Earth Object Web Service) is a RESTful web service for near earth Asteroid information. With NeoWs a user can: search for Asteroids based on their closest approach date to Earth, lookup a specific Asteroid with its NASA JPL small body id, as well as browse the overall data-set.\r\n",
        "\r\n",
        "\r\n",
        "https://www.kaggle.com/shrutimehta/nasa-asteroids-classification\r\n",
        "\r\n",
        "\r\n",
        "\r\n",
        "**Número de instancias:** 4687"
      ]
    },
    {
      "cell_type": "markdown",
      "metadata": {
        "id": "QzVwRfZu_cQW"
      },
      "source": [
        "# 1. Acceso a drive"
      ]
    },
    {
      "cell_type": "code",
      "metadata": {
        "colab": {
          "base_uri": "https://localhost:8080/"
        },
        "id": "XagFf77X-K4r",
        "outputId": "cb1d0977-45bc-4c82-dc89-f9542f5a5711"
      },
      "source": [
        "from google.colab import drive\r\n",
        "drive.mount('/content/drive')"
      ],
      "execution_count": null,
      "outputs": [
        {
          "output_type": "stream",
          "text": [
            "Drive already mounted at /content/drive; to attempt to forcibly remount, call drive.mount(\"/content/drive\", force_remount=True).\n"
          ],
          "name": "stdout"
        }
      ]
    },
    {
      "cell_type": "markdown",
      "metadata": {
        "id": "1k9CO-VQ_Ya8"
      },
      "source": [
        "# 2. Importando librerías"
      ]
    },
    {
      "cell_type": "code",
      "metadata": {
        "id": "z6mWqP5J_L-L"
      },
      "source": [
        "import ____ as pd\r\n",
        "from ____ import train_test_split\r\n",
        "from ____ import metrics\r\n",
        "import ___ as sns\r\n",
        "from ____ import StandardScaler\r\n",
        "import _____ as np\r\n",
        "from sklearn.____ import SVC\r\n",
        "import ____ as plt\r\n",
        "import os\r\n",
        "import itertools\r\n",
        "from _____ import confusion_matrix\r\n",
        "from imblearn.under_sampling import RandomUnderSampler\r\n",
        "from imblearn.over_sampling import RandomOverSampler"
      ],
      "execution_count": null,
      "outputs": []
    },
    {
      "cell_type": "markdown",
      "metadata": {
        "id": "CHpFT0fs_mU6"
      },
      "source": [
        "# 3. Lectura del archivo de rasgos del dataset de fracturas"
      ]
    },
    {
      "cell_type": "code",
      "metadata": {
        "id": "2ldtkBcr_9GG"
      },
      "source": [
        "path = ________\r\n",
        "file = 'nasa.csv'"
      ],
      "execution_count": null,
      "outputs": []
    },
    {
      "cell_type": "code",
      "metadata": {
        "id": "-RyugWMU_lah"
      },
      "source": [
        "nasadf = ______ # Lectura del archivo\r\n",
        "_____.head()"
      ],
      "execution_count": null,
      "outputs": []
    },
    {
      "cell_type": "markdown",
      "metadata": {
        "id": "EA66DTGEb172"
      },
      "source": [
        "# 4. Exploración de los datos y preparación"
      ]
    },
    {
      "cell_type": "code",
      "metadata": {
        "id": "4LKRy8_qAcRc"
      },
      "source": [
        "_____.shape"
      ],
      "execution_count": null,
      "outputs": []
    },
    {
      "cell_type": "markdown",
      "metadata": {
        "id": "vN7TcqI1IMlj"
      },
      "source": [
        "**Valores que toma la variable dependiente**"
      ]
    },
    {
      "cell_type": "code",
      "metadata": {
        "id": "iy-UzQdC6m8b"
      },
      "source": [
        "clases = ______.iloc[:,-1].unique()\r\n",
        "n_clases = len(clases)\r\n",
        "print(clases)"
      ],
      "execution_count": null,
      "outputs": []
    },
    {
      "cell_type": "markdown",
      "metadata": {
        "id": "BWdXXUEnIiJF"
      },
      "source": [
        "**Nombres de las columnas del dataframe**"
      ]
    },
    {
      "cell_type": "code",
      "metadata": {
        "id": "iv-GrLPxIcmK"
      },
      "source": [
        "_____.columns"
      ],
      "execution_count": null,
      "outputs": []
    },
    {
      "cell_type": "markdown",
      "metadata": {
        "id": "tj0tHSvmIo47"
      },
      "source": [
        "**Información sobre los tipos de dato en cada columna**"
      ]
    },
    {
      "cell_type": "code",
      "metadata": {
        "id": "DcI-ivA1JHHj"
      },
      "source": [
        "_____.info()"
      ],
      "execution_count": null,
      "outputs": []
    },
    {
      "cell_type": "markdown",
      "metadata": {
        "id": "H4O9dLPRIYxQ"
      },
      "source": [
        "**Eliminando las columnas 'Neo Reference ID', 'Name' y los que sean del tipo object**"
      ]
    },
    {
      "cell_type": "code",
      "metadata": {
        "id": "JEWAfv1jJeOJ"
      },
      "source": [
        "nasadf = _______"
      ],
      "execution_count": null,
      "outputs": []
    },
    {
      "cell_type": "code",
      "metadata": {
        "id": "jFBYq7vrKb0T"
      },
      "source": [
        "nasadf"
      ],
      "execution_count": null,
      "outputs": []
    },
    {
      "cell_type": "markdown",
      "metadata": {
        "id": "_d-RdTZAAbWW"
      },
      "source": [
        "# 5. Escalamiento y codificación"
      ]
    },
    {
      "cell_type": "code",
      "metadata": {
        "id": "4tfmWuyVAq9C"
      },
      "source": [
        "scaler = StandardScaler()\r\n",
        "nasadf.loc[:, nasadf.columns != 'Hazardous'] = ______(nasadf.loc[:, nasadf.columns != 'Hazardous'])"
      ],
      "execution_count": null,
      "outputs": []
    },
    {
      "cell_type": "markdown",
      "metadata": {
        "id": "DC2UrtqMRAf_"
      },
      "source": [
        "# Distribución de clases"
      ]
    },
    {
      "cell_type": "code",
      "metadata": {
        "id": "5qoGs3cXRGJH"
      },
      "source": [
        "f,ax=plt.subplots(figsize=(8,5))\r\n",
        "sns.countplot(____['Hazardous'], ax=ax)\r\n",
        "ax.set_title('Distribucion de Asteroides peligrosos')\r\n",
        "plt.show()"
      ],
      "execution_count": null,
      "outputs": []
    },
    {
      "cell_type": "markdown",
      "metadata": {
        "id": "3SFOk2FPV6EP"
      },
      "source": [
        "# Undersampling"
      ]
    },
    {
      "cell_type": "code",
      "metadata": {
        "id": "5Vc8OGwQ8_Hv"
      },
      "source": [
        "X = _____.drop(['Hazardous'],axis=1)\r\n",
        "y = _____['Hazardous'].values"
      ],
      "execution_count": null,
      "outputs": []
    },
    {
      "cell_type": "code",
      "metadata": {
        "id": "q105lW8OU3Uz"
      },
      "source": [
        "# estrategia de muestreo\r\n",
        "sampling = _______(sampling_strategy=_____)\r\n",
        "# ajustar y aplicar el muestreo\r\n",
        "X, y = sampling.fit_resample(X, y)"
      ],
      "execution_count": null,
      "outputs": []
    },
    {
      "cell_type": "code",
      "metadata": {
        "id": "XWy3A1GHWtXB"
      },
      "source": [
        "fig = plt.figure(figsize = (8,5))\r\n",
        "p = pd.Series(y).value_counts(normalize = False).plot(kind='bar', color= ['hotpink','teal'])\r\n",
        "p.set_xticklabels(nasadf['Hazardous'].unique())\r\n",
        "plt.title('Asteroides después del muestreo (Dataset balaceado)')\r\n",
        "plt.show()"
      ],
      "execution_count": null,
      "outputs": []
    },
    {
      "cell_type": "markdown",
      "metadata": {
        "id": "oRHwG960MegN"
      },
      "source": [
        "# 6. Validación"
      ]
    },
    {
      "cell_type": "code",
      "metadata": {
        "id": "pplWDsoJUSEv"
      },
      "source": [
        "seed = 40"
      ],
      "execution_count": null,
      "outputs": []
    },
    {
      "cell_type": "code",
      "metadata": {
        "id": "JMIJzjzXMkBm"
      },
      "source": [
        "X_train, X_test, y_train, y_test = train_test_split(___, ____, test_size=____, random_state=____, shuffle=____)"
      ],
      "execution_count": null,
      "outputs": []
    },
    {
      "cell_type": "markdown",
      "metadata": {
        "id": "zFgOwrowFO07"
      },
      "source": [
        "# 7. Máquina de soporte vectorial para clasificación"
      ]
    },
    {
      "cell_type": "markdown",
      "metadata": {
        "id": "r8erIJXYOwFD"
      },
      "source": [
        "**Creación del objeto svm a partir de la clase SVC**"
      ]
    },
    {
      "cell_type": "code",
      "metadata": {
        "id": "u9CsJZWgYSMQ"
      },
      "source": [
        "svm =  ____(random_state=seed)"
      ],
      "execution_count": null,
      "outputs": []
    },
    {
      "cell_type": "markdown",
      "metadata": {
        "id": "V-6P2d1MO7Yq"
      },
      "source": [
        "**Entrenamiento**"
      ]
    },
    {
      "cell_type": "code",
      "metadata": {
        "id": "Pp-3xa-DNkZJ"
      },
      "source": [
        "svm = _____.____(____, _____)"
      ],
      "execution_count": null,
      "outputs": []
    },
    {
      "cell_type": "markdown",
      "metadata": {
        "id": "IxO7yNBqO_N_"
      },
      "source": [
        "**Score de accuracy de entrenamiento**"
      ]
    },
    {
      "cell_type": "code",
      "metadata": {
        "colab": {
          "base_uri": "https://localhost:8080/"
        },
        "id": "yPV1iyScNkNq",
        "outputId": "ae8e70df-10dc-4c50-950a-6a7917fcd66f"
      },
      "source": [
        "____.____(____, ____)"
      ],
      "execution_count": null,
      "outputs": [
        {
          "output_type": "execute_result",
          "data": {
            "text/plain": [
              "0.966142107773009"
            ]
          },
          "metadata": {
            "tags": []
          },
          "execution_count": 59
        }
      ]
    },
    {
      "cell_type": "markdown",
      "metadata": {
        "id": "BjWdKHnUPFpo"
      },
      "source": [
        "**Clasificación de datos de prueba**"
      ]
    },
    {
      "cell_type": "code",
      "metadata": {
        "id": "hA5cP34ZNkAS"
      },
      "source": [
        "y_pred = ___.____(___)"
      ],
      "execution_count": null,
      "outputs": []
    },
    {
      "cell_type": "markdown",
      "metadata": {
        "id": "bH70D2l7PZOx"
      },
      "source": [
        "**Accuracy de datos de prueba**"
      ]
    },
    {
      "cell_type": "code",
      "metadata": {
        "id": "7BUKZwk9PlJ4"
      },
      "source": [
        "metrics.accuracy_score(_____, ____)"
      ],
      "execution_count": null,
      "outputs": []
    },
    {
      "cell_type": "code",
      "metadata": {
        "id": "2HEQcjl-S8eA"
      },
      "source": [
        "def plot_confusion_matrix(cm, classes, tit, normalize=False):\r\n",
        "    if normalize:\r\n",
        "        cm = cm.astype('float')/cm.sum(axis=1)\r\n",
        "        title, fmt = 'Matriz de confusión normalizada', '.2f'\r\n",
        "    else:\r\n",
        "        title, fmt = tit, 'd'\r\n",
        "    plt.figure(figsize=(10,8))\r\n",
        "    plt.imshow(cm, interpolation='nearest', cmap=plt.cm.Blues)\r\n",
        "    plt.title(title)#, fontsize=12)\r\n",
        "    plt.colorbar(pad=0.05)\r\n",
        "    tick_marks = np.arange(len(classes))\r\n",
        "    plt.xticks(tick_marks, classes, rotation=40)\r\n",
        "    plt.yticks(tick_marks, classes)\r\n",
        "    thresh = cm.max()/2.\r\n",
        "    for i, j in itertools.product(range(cm.shape[0]), range(cm.shape[1])):\r\n",
        "        plt.text(j, i, format(cm[i, j], fmt),horizontalalignment=\"center\", \r\n",
        "                 color=\"white\" if cm[i, j] > thresh else \"black\")\r\n",
        "    plt.tight_layout()\r\n",
        "    plt.ylabel('Clase Verdadera')\r\n",
        "    plt.xlabel('Clase Predicha')\r\n",
        "    plt.savefig(title+'.png')\r\n",
        "    plt.grid(False)\r\n",
        "    plt.show()"
      ],
      "execution_count": null,
      "outputs": []
    },
    {
      "cell_type": "code",
      "metadata": {
        "id": "FacLJpX5gPrl"
      },
      "source": [
        "cnf_matrix = confusion_matrix(_____, _____, labels=range(n_clases))\r\n",
        "tit = 'Matriz de confusión SVM'\r\n",
        "plot_confusion_matrix(cnf_matrix,['False','True'], tit, normalize=False)"
      ],
      "execution_count": null,
      "outputs": []
    },
    {
      "cell_type": "code",
      "metadata": {
        "id": "fU3rN4Xzg80E"
      },
      "source": [
        "sensitivity = []\r\n",
        "specificity = []\r\n",
        "acc=[]\r\n",
        "for i,name in enumerate(nasadf.Hazardous.unique()):\r\n",
        "  TP = np.sum((y_test==name) & (y_pred==name))\r\n",
        "  TN = np.sum((y_test!=name) & (y_pred!=name))\r\n",
        "  FP = np.sum((y_test!=name) & (y_pred==name))\r\n",
        "  FN = np.sum((y_test==name) & (y_pred!=name))\r\n",
        "  sensitivity.append(TP/(TP+FN))\r\n",
        "  specificity.append(FP/(TN+FP))\r\n",
        "  acc.append(TP/(TP+FP))\r\n",
        "sensitivity.append(sum([x*y for x,y in zip(sensitivity,[1/2]*2)]))\r\n",
        "specificity.append(sum([x*y for x,y in zip(specificity,[1/2]*2)]))\r\n",
        "acc.append(sum([x*y for x,y in zip(acc,[1/2]*2)]))\r\n",
        "d = {'Sensitivity':sensitivity, 'Specificity':specificity, 'Accuracy':acc}\r\n",
        "ind = list(clases)+['Promedio']\r\n",
        "df = pd.DataFrame(d, index=ind)\r\n",
        "index = df.index\r\n",
        "sns.set(rc={'figure.figsize':(11.7,8.27)})\r\n",
        "sns.heatmap(df, annot=True)"
      ],
      "execution_count": null,
      "outputs": []
    },
    {
      "cell_type": "code",
      "metadata": {
        "id": "YGGrWeNE-mbQ"
      },
      "source": [
        ""
      ],
      "execution_count": null,
      "outputs": []
    }
  ]
}