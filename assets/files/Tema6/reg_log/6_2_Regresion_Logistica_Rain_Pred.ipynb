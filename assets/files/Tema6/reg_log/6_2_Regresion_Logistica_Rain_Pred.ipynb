{
  "nbformat": 4,
  "nbformat_minor": 0,
  "metadata": {
    "colab": {
      "name": "6.2 Regresion_Logistica_Rain_Pred.ipynb",
      "provenance": [],
      "collapsed_sections": [
        "dIxfY9VpbM22",
        "ykEQBlVeba-G"
      ]
    },
    "kernelspec": {
      "name": "python3",
      "display_name": "Python 3"
    }
  },
  "cells": [
    {
      "cell_type": "markdown",
      "metadata": {
        "id": "dIxfY9VpbM22"
      },
      "source": [
        "# Predicción de lluvia usando regresión logística"
      ]
    },
    {
      "cell_type": "markdown",
      "metadata": {
        "id": "ykEQBlVeba-G"
      },
      "source": [
        "#Rain in Australia\r\n",
        "Descripción: This dataset contains about 10 years of daily weather observations from many locations across Australia.\r\n",
        "\r\n",
        "RainTomorrow is the target variable to predict. It means -- did it rain the next day, Yes or No? This column is Yes if the rain for that day was 1mm or more.\r\n",
        "\r\n",
        "https://www.kaggle.com/jsphyg/weather-dataset-rattle-package\r\n",
        "\r\n",
        "Instancias: 145461\r\n",
        "\r\n",
        "Atributos: 23\r\n",
        "\r\n",
        "0. Date (AAAA-MM-DD): The date of observation\r\n",
        "1. Location: The common name of the location of the weather station.\r\n",
        "2. MinTemp: The minimum temperature in degrees celsius\r\n",
        "3. MaxTemp: The maximum temperature in degrees celsius\r\n",
        "4. Rainfall: The amount of rainfall recorded for the day in mm\r\n",
        "5. Evaporation: The so-called Class A pan evaporation (mm) in the 24 hours to 9am\r\n",
        "6. Sunshine: The number of hours of bright sunshine in the day.\r\n",
        "7. WindGustDir: The direction of the strongest wind gust in the 24 hours to midnight\r\n",
        "8. WindGustSpeed: The speed (km/h) of the strongest wind gust in the 24 hours to midnight\r\n",
        "9. WindDir9am: Direction of the wind at 9am"
      ]
    },
    {
      "cell_type": "markdown",
      "metadata": {
        "id": "BjFs7qy5gYqm"
      },
      "source": [
        "# 1. Acceso a drive"
      ]
    },
    {
      "cell_type": "code",
      "metadata": {
        "id": "EnGBXoK3sbqT"
      },
      "source": [
        "from google.colab import drive\r\n",
        "drive.mount('/content/drive')"
      ],
      "execution_count": null,
      "outputs": []
    },
    {
      "cell_type": "markdown",
      "metadata": {
        "id": "3NIBFlFMh-Kg"
      },
      "source": [
        "# 2. Importando librerías"
      ]
    },
    {
      "cell_type": "code",
      "metadata": {
        "id": "HTWN2K7Uhwo4",
        "colab": {
          "base_uri": "https://localhost:8080/"
        },
        "outputId": "a2c53961-d64b-496f-9e9d-03f283e6cbbd"
      },
      "source": [
        "import _____ as pd\r\n",
        "import os\r\n",
        "import _____ as plt\r\n",
        "import _____ as np\r\n",
        "import random\r\n",
        "import itertools\r\n",
        "from sklearn._____ import confusion_matrix # De donde importamos confusion_matrix\r\n",
        "from imblearn.under_sampling import RandomUnderSampler\r\n",
        "from __________ import cross_val_score, cross_val_predict # de donde importamos estos módulos?\r\n",
        "from sklearn.model_selection import KFold\r\n",
        "from sklearn import metrics\r\n",
        "import _____ as sns\r\n",
        "from sklearn.________ import LabelEncoder\r\n",
        "from ________ import MinMaxScaler\r\n",
        "from sklearn._______ import LogisticRegression # de donde importamos a LogisticRegression?"
      ],
      "execution_count": null,
      "outputs": [
        {
          "output_type": "stream",
          "text": [
            "/usr/local/lib/python3.6/dist-packages/sklearn/externals/six.py:31: FutureWarning: The module is deprecated in version 0.21 and will be removed in version 0.23 since we've dropped support for Python 2.7. Please rely on the official version of six (https://pypi.org/project/six/).\n",
            "  \"(https://pypi.org/project/six/).\", FutureWarning)\n",
            "/usr/local/lib/python3.6/dist-packages/sklearn/utils/deprecation.py:144: FutureWarning: The sklearn.neighbors.base module is  deprecated in version 0.22 and will be removed in version 0.24. The corresponding classes / functions should instead be imported from sklearn.neighbors. Anything that cannot be imported from sklearn.neighbors is now part of the private API.\n",
            "  warnings.warn(message, FutureWarning)\n"
          ],
          "name": "stderr"
        }
      ]
    },
    {
      "cell_type": "markdown",
      "metadata": {
        "id": "p5qPbY8Kn9gs"
      },
      "source": [
        "# 3. Lectura del dataset"
      ]
    },
    {
      "cell_type": "code",
      "metadata": {
        "id": "IUMyjdVgosqQ"
      },
      "source": [
        "path = _____\r\n",
        "name = 'weatherAUS.csv'"
      ],
      "execution_count": null,
      "outputs": []
    },
    {
      "cell_type": "code",
      "metadata": {
        "id": "0AJEw68vn8zU"
      },
      "source": [
        "raindf = pd.___(os.____.join(____,____))\r\n",
        "____.head()"
      ],
      "execution_count": null,
      "outputs": []
    },
    {
      "cell_type": "markdown",
      "metadata": {
        "id": "eHZpNf_4sC69"
      },
      "source": [
        "Generando una copia del dataframe"
      ]
    },
    {
      "cell_type": "code",
      "metadata": {
        "colab": {
          "base_uri": "https://localhost:8080/"
        },
        "id": "5JwZ08yjpyyj",
        "outputId": "c5ff15ac-fd97-4e4e-b357-d02f4b5c8cb5"
      },
      "source": [
        "raindfc = raindf.copy()\r\n",
        "raindf.shape"
      ],
      "execution_count": null,
      "outputs": [
        {
          "output_type": "execute_result",
          "data": {
            "text/plain": [
              "(145460, 23)"
            ]
          },
          "metadata": {
            "tags": []
          },
          "execution_count": 5
        }
      ]
    },
    {
      "cell_type": "markdown",
      "metadata": {
        "id": "PT6hn7JUsLVq"
      },
      "source": [
        "**Revisando visualmente si hay NaNs**"
      ]
    },
    {
      "cell_type": "code",
      "metadata": {
        "id": "oDJsc7r0pMtR"
      },
      "source": [
        "fig, ax = plt.subplots(figsize=(25,8))\r\n",
        "____.heatmap(_____.isnull(), ax=ax, cmap=\"magma\")\r\n",
        "plt.grid()\r\n",
        "plt.____()"
      ],
      "execution_count": null,
      "outputs": []
    },
    {
      "cell_type": "markdown",
      "metadata": {
        "id": "yK0etp5gxAxE"
      },
      "source": [
        "# 4. Limpieza de los datos"
      ]
    },
    {
      "cell_type": "markdown",
      "metadata": {
        "id": "PBQIzumEsU-A"
      },
      "source": [
        "**Eliminando la columna 'Date'**"
      ]
    },
    {
      "cell_type": "code",
      "metadata": {
        "id": "oLLU00Jrpjsc"
      },
      "source": [
        "raindf.drop([____], axis=1, inplace=True)"
      ],
      "execution_count": null,
      "outputs": []
    },
    {
      "cell_type": "markdown",
      "metadata": {
        "id": "IyokLZL2sbSj"
      },
      "source": [
        "**Eliminación o Imputación de valores faltantes**"
      ]
    },
    {
      "cell_type": "code",
      "metadata": {
        "id": "LFxAamNtpVyg"
      },
      "source": [
        ""
      ],
      "execution_count": null,
      "outputs": []
    },
    {
      "cell_type": "markdown",
      "metadata": {
        "id": "mx8dRHWZslUy"
      },
      "source": [
        "**¿Con cuántas instancias nos quedamos?**"
      ]
    },
    {
      "cell_type": "code",
      "metadata": {
        "colab": {
          "base_uri": "https://localhost:8080/"
        },
        "id": "u9v7tasPqcvb",
        "outputId": "815f2d40-bfa3-44f4-d17e-9ec73c02d620"
      },
      "source": [
        "_____.shape"
      ],
      "execution_count": null,
      "outputs": [
        {
          "output_type": "execute_result",
          "data": {
            "text/plain": [
              "(56420, 22)"
            ]
          },
          "metadata": {
            "tags": []
          },
          "execution_count": 9
        }
      ]
    },
    {
      "cell_type": "markdown",
      "metadata": {
        "id": "u5iwlamCswBf"
      },
      "source": [
        "**Verificando si aún hay valores faltantes**"
      ]
    },
    {
      "cell_type": "code",
      "metadata": {
        "id": "oxDlnnVcqhq8"
      },
      "source": [
        ""
      ],
      "execution_count": null,
      "outputs": []
    },
    {
      "cell_type": "markdown",
      "metadata": {
        "id": "LEQx2stWs2TG"
      },
      "source": [
        "**Guardando los nombres de la lista de características**"
      ]
    },
    {
      "cell_type": "code",
      "metadata": {
        "id": "r9m2vVwTeLW5"
      },
      "source": [
        "features = raindf.columns.tolist()[:-1]\r\n",
        "print(features)"
      ],
      "execution_count": null,
      "outputs": []
    },
    {
      "cell_type": "markdown",
      "metadata": {
        "id": "dHZx3K08s8xi"
      },
      "source": [
        "**Guardando los valores que puede tomar la variable dependiente**"
      ]
    },
    {
      "cell_type": "code",
      "metadata": {
        "id": "azO92y5HfblX"
      },
      "source": [
        "RainLabels = raindf['RainTomorrow'].unique()\r\n",
        "print(RainLabels)"
      ],
      "execution_count": null,
      "outputs": []
    },
    {
      "cell_type": "markdown",
      "metadata": {
        "id": "WixM_R0mYnnz"
      },
      "source": [
        "# 6. Codificación y Escalamiento "
      ]
    },
    {
      "cell_type": "markdown",
      "metadata": {
        "id": "j3Jv405ftVGr"
      },
      "source": [
        "**¿De qué tipo son las columnas (object=categórica, float64=numérica)?**"
      ]
    },
    {
      "cell_type": "code",
      "metadata": {
        "id": "FfkXx50rKXKH"
      },
      "source": [
        "raindf.info()"
      ],
      "execution_count": null,
      "outputs": []
    },
    {
      "cell_type": "markdown",
      "metadata": {
        "id": "k4NxUnT7tn2F"
      },
      "source": [
        "**Ahora que conocemos nuestras variables categóricas, crearemos una lista con sus nombres**"
      ]
    },
    {
      "cell_type": "code",
      "metadata": {
        "id": "Do3uarw7bH0C"
      },
      "source": [
        "cat_columns = ['Location', ...____________________________________]"
      ],
      "execution_count": null,
      "outputs": []
    },
    {
      "cell_type": "markdown",
      "metadata": {
        "id": "wB7vo2sntzua"
      },
      "source": [
        "**Codifiquemos estas columnas**"
      ]
    },
    {
      "cell_type": "code",
      "metadata": {
        "id": "mySAPHsKKYaJ"
      },
      "source": [
        ""
      ],
      "execution_count": null,
      "outputs": []
    },
    {
      "cell_type": "code",
      "metadata": {
        "id": "KxtAXH0ycuXl"
      },
      "source": [
        "raindf.head()"
      ],
      "execution_count": null,
      "outputs": []
    },
    {
      "cell_type": "markdown",
      "metadata": {
        "id": "_CI97SQruGtF"
      },
      "source": [
        "**Dividir el dataframe en dos: Vars independientes y Var dependiente**"
      ]
    },
    {
      "cell_type": "code",
      "metadata": {
        "id": "_yFL6FNZ9Y3T"
      },
      "source": [
        "X = _____.iloc[:,____]\r\n",
        "y = _____.iloc[:,____]"
      ],
      "execution_count": null,
      "outputs": []
    },
    {
      "cell_type": "markdown",
      "metadata": {
        "id": "xL0djI9LuY5d"
      },
      "source": [
        "**Escalando las variables independientes (X) de 0 a 1**"
      ]
    },
    {
      "cell_type": "code",
      "metadata": {
        "id": "QAKanWXXbHze"
      },
      "source": [
        ""
      ],
      "execution_count": null,
      "outputs": []
    },
    {
      "cell_type": "code",
      "metadata": {
        "id": "SAkNGc1wgMcv"
      },
      "source": [
        "X.head()"
      ],
      "execution_count": null,
      "outputs": []
    },
    {
      "cell_type": "markdown",
      "metadata": {
        "id": "r8Pg-xWN5aq_"
      },
      "source": [
        "# 5. Exploración de los datos "
      ]
    },
    {
      "cell_type": "markdown",
      "metadata": {
        "id": "oH1qAz7iuzNS"
      },
      "source": [
        "**Observemos las correlaciones e histogramas de las variables independientes numéricas de la lista num_cols... ¿Qué observas?**"
      ]
    },
    {
      "cell_type": "code",
      "metadata": {
        "id": "DvX5wPMLBLv5"
      },
      "source": [
        "num_columns = ['MinTemp', 'MaxTemp', 'Rainfall', 'Evaporation', 'Sunshine']\r\n",
        "g = sns.______(data=raindfc, vars=num_columns, hue='RainTomorrow', size=3)\r\n",
        "g.map_diag(plt.hist)\r\n",
        "g.map_offdiag(plt.scatter)\r\n",
        "g.add_legend()"
      ],
      "execution_count": null,
      "outputs": []
    },
    {
      "cell_type": "markdown",
      "metadata": {
        "id": "yev0opBjuiAF"
      },
      "source": [
        "**Visualicemos cuántas instancias hay de cada tipo para la variable dependiente... ¿Qué pasa?**"
      ]
    },
    {
      "cell_type": "code",
      "metadata": {
        "id": "9cN38fPu3vNd"
      },
      "source": [
        "p = raindf['RainTomorrow'].value_counts().plot(kind='bar', figsize=(10,5), grid=True)\r\n",
        "p.set_xticklabels(RainLabels)\r\n",
        "plt.show()\r\n"
      ],
      "execution_count": null,
      "outputs": []
    },
    {
      "cell_type": "markdown",
      "metadata": {
        "id": "nsxdBLA3vOcc"
      },
      "source": [
        "**Contemos las instancias para NO (0) y para SI (0)**"
      ]
    },
    {
      "cell_type": "code",
      "metadata": {
        "id": "SOdgXc-Q0tV2"
      },
      "source": [
        "# Instancias con NO\r\n",
        "no = y[y == 0]\r\n",
        "# Instancias con YES\r\n",
        "yes = y[y == 1]\r\n",
        "print(len(yes))\r\n",
        "print(len(no))"
      ],
      "execution_count": null,
      "outputs": []
    },
    {
      "cell_type": "markdown",
      "metadata": {
        "id": "xsL9rnuMvYfe"
      },
      "source": [
        "**Submuestreo**"
      ]
    },
    {
      "cell_type": "code",
      "metadata": {
        "id": "G9zc8Ndr849h"
      },
      "source": [
        "# estrategia de submuestreo\r\n",
        "undersample = RandomUnderSampler(sampling_strategy='majority')\r\n",
        "# ajustar y aplicar el submuestreo\r\n",
        "X, y = undersample.fit_resample(X, y)"
      ],
      "execution_count": null,
      "outputs": []
    },
    {
      "cell_type": "markdown",
      "metadata": {
        "id": "3qTPpe7fvoB5"
      },
      "source": [
        "**Visualiceos su distribución de nuevo**"
      ]
    },
    {
      "cell_type": "code",
      "metadata": {
        "id": "xUWxx8VFCHH9"
      },
      "source": [
        "fig = plt.figure(figsize = (8,5))\r\n",
        "p = pd.Series(____).value_counts(normalize = False).plot(kind='bar', color= ['magenta','blue'])\r\n",
        "p.set_xticklabels(RainLabels)\r\n",
        "plt.title('RainTomorrow después del submuestreo (Dataset balaceado)')\r\n",
        "plt.show()"
      ],
      "execution_count": null,
      "outputs": []
    },
    {
      "cell_type": "markdown",
      "metadata": {
        "id": "TOZ6cNnRve36"
      },
      "source": [
        "**Volvamos a contar las instancias de NO y de SI**"
      ]
    },
    {
      "cell_type": "code",
      "metadata": {
        "id": "Vgowtnzp-VPY"
      },
      "source": [
        "# Instancias con NO\r\n",
        "no = ____[y == 0]\r\n",
        "# Instancias con YES\r\n",
        "yes = y[___ == 1]\r\n",
        "print(len(yes))\r\n",
        "print(len(no))"
      ],
      "execution_count": null,
      "outputs": []
    },
    {
      "cell_type": "markdown",
      "metadata": {
        "id": "T-qS3PZlv1yV"
      },
      "source": [
        "**Dado que está balanceado definamos los persos de cada clase**"
      ]
    },
    {
      "cell_type": "code",
      "metadata": {
        "id": "EchWpPUiePqT"
      },
      "source": [
        "pesos = [0.5, 0.5]\r\n",
        "print(pesos)"
      ],
      "execution_count": null,
      "outputs": []
    },
    {
      "cell_type": "markdown",
      "metadata": {
        "id": "f_UsNTU_cV-f"
      },
      "source": [
        "# 7. Predicción con regresión logística"
      ]
    },
    {
      "cell_type": "markdown",
      "metadata": {
        "id": "V4ySiDFHwUyI"
      },
      "source": [
        "**Definamos a nuestro clasificador de la clase LogisticRegression**"
      ]
    },
    {
      "cell_type": "code",
      "metadata": {
        "id": "tQVYRxKYeovD"
      },
      "source": [
        "logreg = ____________(max_iter=200)"
      ],
      "execution_count": null,
      "outputs": []
    },
    {
      "cell_type": "markdown",
      "metadata": {
        "id": "yrE460SkxM_S"
      },
      "source": [
        "**Usando una validación de 10 folds definamos a nuestro objeto kfold**\r\n",
        "\r\n",
        "\r\n"
      ]
    },
    {
      "cell_type": "code",
      "metadata": {
        "id": "f85UVmcBxTJK"
      },
      "source": [
        "kfold = KFold(n_splits=10, shuffle=True)"
      ],
      "execution_count": null,
      "outputs": []
    },
    {
      "cell_type": "markdown",
      "metadata": {
        "id": "djVi2Eh_xfnF"
      },
      "source": [
        "**Obteniendo el score alcanzado por el clasificador**"
      ]
    },
    {
      "cell_type": "code",
      "metadata": {
        "colab": {
          "base_uri": "https://localhost:8080/"
        },
        "id": "eL4rrAISfBKZ",
        "outputId": "3044f0f7-dae5-460f-eb48-8ba8cc08f026"
      },
      "source": [
        "score = cross_val_score(logreg, ____, _____, cv=kfold, scoring=\"accuracy\")\r\n",
        "print(score)"
      ],
      "execution_count": null,
      "outputs": [
        {
          "output_type": "stream",
          "text": [
            "[0.79404666 0.79525342 0.81053902 0.80209171 0.80603622 0.79476861\n",
            " 0.80040241 0.80321932 0.79597586 0.79275654]\n"
          ],
          "name": "stdout"
        }
      ]
    },
    {
      "cell_type": "markdown",
      "metadata": {
        "id": "Ut2ldwk9xoUb"
      },
      "source": [
        "**Predicciones**"
      ]
    },
    {
      "cell_type": "code",
      "metadata": {
        "id": "33rxfmCHfNjx"
      },
      "source": [
        "y_pred = cross_val_predict(______, _____, y, cv=10)"
      ],
      "execution_count": null,
      "outputs": []
    },
    {
      "cell_type": "markdown",
      "metadata": {
        "id": "jMAfWBYfx03T"
      },
      "source": [
        "**Matriz de confusión**"
      ]
    },
    {
      "cell_type": "code",
      "metadata": {
        "id": "zzmNxqhubhL7"
      },
      "source": [
        "def plot_confusion_matrix(cm, classes, tit, normalize=False):\r\n",
        "    if normalize:\r\n",
        "        cm = cm.astype('float')/cm.sum(axis=1)\r\n",
        "        title, fmt = 'Matriz de confusión normalizada', '.2f'\r\n",
        "    else:\r\n",
        "        title, fmt = tit, 'd'\r\n",
        "    plt.figure(figsize=(6,4))\r\n",
        "    plt.imshow(cm, interpolation='nearest', cmap=plt.cm.Blues)\r\n",
        "    plt.title(title)\r\n",
        "    plt.colorbar(pad=0.05)\r\n",
        "    tick_marks = np.arange(len(classes))\r\n",
        "    plt.xticks(tick_marks, classes, rotation=40)\r\n",
        "    plt.yticks(tick_marks, classes)\r\n",
        "    thresh = cm.max()/2.\r\n",
        "    for i, j in itertools.product(range(cm.shape[0]), range(cm.shape[1])):\r\n",
        "        plt.text(j, i, format(cm[i, j], fmt),horizontalalignment=\"center\", \r\n",
        "                 color=\"white\" if cm[i, j] > thresh else \"black\")\r\n",
        "    plt.tight_layout()\r\n",
        "    plt.ylabel('Clase Verdadera')\r\n",
        "    plt.xlabel('Clase Predicha')\r\n",
        "    plt.grid(False)\r\n",
        "    plt.show()"
      ],
      "execution_count": null,
      "outputs": []
    },
    {
      "cell_type": "markdown",
      "metadata": {
        "id": "eSm6lGX_x7W0"
      },
      "source": [
        "**Interpretemos la matriz de confusión**"
      ]
    },
    {
      "cell_type": "code",
      "metadata": {
        "id": "MBGXrZ33gRB8"
      },
      "source": [
        "cnf_matrix = confusion_matrix(______, _______, labels=range(2))\r\n",
        "plot_confusion_matrix(cnf_matrix,'Matriz de confusión Regresión Logística', tit, normalize=False)"
      ],
      "execution_count": null,
      "outputs": []
    },
    {
      "cell_type": "code",
      "metadata": {
        "id": "INJ_DgJjgyNA"
      },
      "source": [
        ""
      ],
      "execution_count": null,
      "outputs": []
    }
  ]
}