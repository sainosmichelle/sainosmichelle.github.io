{
  "nbformat": 4,
  "nbformat_minor": 0,
  "metadata": {
    "colab": {
      "name": "6.5 Clustering_k-means_sismos.ipynb",
      "provenance": [],
      "collapsed_sections": []
    },
    "kernelspec": {
      "name": "python3",
      "display_name": "Python 3"
    }
  },
  "cells": [
    {
      "cell_type": "markdown",
      "metadata": {
        "id": "lwlGNbfgQjwY"
      },
      "source": [
        "# 1. Clusterización K-Means"
      ]
    },
    {
      "cell_type": "markdown",
      "metadata": {
        "id": "kHUdDaIhu424"
      },
      "source": [
        "**Objetivo:** hacer una clusterización de sismos históricos globales.\r\n",
        "\r\n",
        "El centro nacional de información de sismos (NEIC) determina la ubicación y magnitud de los sismos más importantes que han ocurrido en el mundo y disemina esta información inmediatament a agencias nacionales e internacionales. \r\n",
        "\r\n",
        "https://www.kaggle.com/usgs/earthquake-database\r\n",
        "\r\n",
        "**Información de las características**\r\n",
        "This dataset includes a record of the date, time, location, depth, magnitude, and source of every earthquake with a reported magnitude 5.5 or higher since 1965.\r\n",
        "\r\n",
        "* 0 Date\r\n",
        "* 1 Time\r\n",
        "* 2 Location\r\n",
        "* 3 Depth\r\n",
        "* 4 Magnitude\r\n",
        "* 5 Source of the earthquake\r\n",
        "\r\n",
        "\r\n",
        "**Número de instancias:** 23412"
      ]
    },
    {
      "cell_type": "markdown",
      "metadata": {
        "id": "Vb0VtzWiQrdT"
      },
      "source": [
        "# 2. Autenticación de drive"
      ]
    },
    {
      "cell_type": "code",
      "metadata": {
        "colab": {
          "base_uri": "https://localhost:8080/"
        },
        "id": "1lZ9rBbUQMSu",
        "outputId": "ec6146a0-eaae-4ec6-d388-d00c009d7050"
      },
      "source": [
        "from google.colab import drive\r\n",
        "drive.mount('/content/drive')"
      ],
      "execution_count": null,
      "outputs": [
        {
          "output_type": "stream",
          "text": [
            "Mounted at /content/drive\n"
          ],
          "name": "stdout"
        }
      ]
    },
    {
      "cell_type": "markdown",
      "metadata": {
        "id": "94seL2n0UZ_N"
      },
      "source": [
        "# 3. Importando librerías"
      ]
    },
    {
      "cell_type": "code",
      "metadata": {
        "id": "--Pso1EKUfR3"
      },
      "source": [
        "import ____ as pd\r\n",
        "import os \r\n",
        "import _____as plt\r\n",
        "import _____ as sns\r\n",
        "import _____ as np\r\n",
        "import plotly.graph_objects as go\r\n",
        "import plotly.express as ___\r\n",
        "import plotly.io as ____\r\n",
        "from sklearn.____ import KMeans\r\n",
        "from sklearn.____ import StandardScaler"
      ],
      "execution_count": null,
      "outputs": []
    },
    {
      "cell_type": "markdown",
      "metadata": {
        "id": "YN3nUnC6SmVf"
      },
      "source": [
        "# 4. Lectura del archivo y visualización de los datos"
      ]
    },
    {
      "cell_type": "code",
      "metadata": {
        "id": "h1MDo382Qn9d"
      },
      "source": [
        "path = _________\r\n",
        "name = 'NEIC_Earthquakes.csv'"
      ],
      "execution_count": null,
      "outputs": []
    },
    {
      "cell_type": "code",
      "metadata": {
        "id": "Lky3bDaoVCA-"
      },
      "source": [
        "sis_path = os.____.join(____,_____)\r\n",
        "sismosdf = pd._____(sis_path)\r\n",
        "sismosdf.head()"
      ],
      "execution_count": null,
      "outputs": []
    },
    {
      "cell_type": "markdown",
      "metadata": {
        "id": "US1IdHX1ZaTk"
      },
      "source": [
        "Observemos que tenemos muchos campos con NaN, ¿Eliminamos las filas con NaN o las columnas?.\r\n",
        "Visualizaremos que tan vacío está el dataframe con un mapa de calor"
      ]
    },
    {
      "cell_type": "code",
      "metadata": {
        "id": "2Cm8ZNzCUIwA"
      },
      "source": [
        "fig, ax = plt.subplots(figsize=(25,8))\r\n",
        "sns._____(_____._____(), ax=ax, cmap=\"magma\")\r\n",
        "plt.grid()\r\n",
        "plt.show()"
      ],
      "execution_count": null,
      "outputs": []
    },
    {
      "cell_type": "code",
      "metadata": {
        "id": "zxK5Vz-9-Krg"
      },
      "source": [
        "_____.shape"
      ],
      "execution_count": null,
      "outputs": []
    },
    {
      "cell_type": "markdown",
      "metadata": {
        "id": "dTTw5TkSVwc7"
      },
      "source": [
        "# 5. Limpieza de los datos"
      ]
    },
    {
      "cell_type": "markdown",
      "metadata": {
        "id": "hEF_dNjye9pR"
      },
      "source": [
        "Eliminar columnas con mayoría de campos indefinidos. **Quedemonos solo con Latitude\tLongitude\tDepth\tMagnitude**"
      ]
    },
    {
      "cell_type": "code",
      "metadata": {
        "id": "po8IjIfLdOrO"
      },
      "source": [
        "sismosdf.drop([____], axis=1, inplace=True)"
      ],
      "execution_count": null,
      "outputs": []
    },
    {
      "cell_type": "code",
      "metadata": {
        "id": "mIEbF9H0fztV"
      },
      "source": [
        "print(sismosdf.shape)\r\n",
        "_____.head()"
      ],
      "execution_count": null,
      "outputs": []
    },
    {
      "cell_type": "markdown",
      "metadata": {
        "id": "syMdQuYyfimq"
      },
      "source": [
        "Eliminación de instancias (filas) con valores idefinidos"
      ]
    },
    {
      "cell_type": "code",
      "metadata": {
        "id": "-SJ1tkEkesLf"
      },
      "source": [
        "sismosdf._____(axis=0, inplace=True)"
      ],
      "execution_count": null,
      "outputs": []
    },
    {
      "cell_type": "code",
      "metadata": {
        "id": "0lw-T52l-Q0l"
      },
      "source": [
        "sismosdf.shape"
      ],
      "execution_count": null,
      "outputs": []
    },
    {
      "cell_type": "markdown",
      "metadata": {
        "id": "apCRTJYSaU0H"
      },
      "source": [
        "# 6. Exploración de los datos de sismos históricos"
      ]
    },
    {
      "cell_type": "markdown",
      "metadata": {
        "id": "x-ngbFkU-70a"
      },
      "source": [
        "#### Revisando las columnas: Type, Magnitude\r\n",
        "\r\n"
      ]
    },
    {
      "cell_type": "markdown",
      "metadata": {
        "id": "P6jAo-b9haDk"
      },
      "source": [
        "##### Columna de magnitud"
      ]
    },
    {
      "cell_type": "code",
      "metadata": {
        "id": "LnguoMTmG71u"
      },
      "source": [
        "fig, ax = plt.subplots(figsize=(25,5))\r\n",
        "sns.countplot(ax=ax, x=sismosdf[_____], color='darkorange')\r\n",
        "plt.show()"
      ],
      "execution_count": null,
      "outputs": []
    },
    {
      "cell_type": "markdown",
      "metadata": {
        "id": "Ipr_mlTLE9qT"
      },
      "source": [
        "##### Columna Type"
      ]
    },
    {
      "cell_type": "code",
      "metadata": {
        "id": "V9wCnOx1FG28"
      },
      "source": [
        "sismosdf[____].value_counts().plot(kind='bar', figsize=(10,5), grid=True, color='hotpink')"
      ],
      "execution_count": null,
      "outputs": []
    },
    {
      "cell_type": "markdown",
      "metadata": {
        "id": "EzgpmSbk5lCk"
      },
      "source": [
        "Eliminación de sismos de otro tipo diferente de 'Earthquake'"
      ]
    },
    {
      "cell_type": "code",
      "metadata": {
        "id": "eFcySNOyHdV-"
      },
      "source": [
        "sismosdf = sismosdf[sismosdf.____ == ____]\r\n",
        "sismosdf.drop(['Type'], axis=1, inplace=True)"
      ],
      "execution_count": null,
      "outputs": []
    },
    {
      "cell_type": "code",
      "metadata": {
        "id": "mroBfsMkq3vQ"
      },
      "source": [
        "sismosdf.head()"
      ],
      "execution_count": null,
      "outputs": []
    },
    {
      "cell_type": "markdown",
      "metadata": {
        "id": "g9cXpbfY5vuw"
      },
      "source": [
        "Descripción de los estadísticos de las 4 variables"
      ]
    },
    {
      "cell_type": "code",
      "metadata": {
        "id": "AKTZaDJheaAj"
      },
      "source": [
        "sismosdf.describe()"
      ],
      "execution_count": null,
      "outputs": []
    },
    {
      "cell_type": "markdown",
      "metadata": {
        "id": "onUE2l1X52AY"
      },
      "source": [
        "Mapa de Magnitud"
      ]
    },
    {
      "cell_type": "code",
      "metadata": {
        "id": "RrRgUfStGdyu"
      },
      "source": [
        "fig = go.Figure(data=go.Scattergeo(\r\n",
        "        lon = sismosdf[____],\r\n",
        "        lat = sismosdf[____],\r\n",
        "        text = sismosdf['Depth'],\r\n",
        "        marker = dict(\r\n",
        "        color = sismosdf['Magnitude'],\r\n",
        "        colorscale = 'Rainbow',\r\n",
        "        reversescale = True,\r\n",
        "        opacity = 0.7,\r\n",
        "        size = 2,\r\n",
        "        colorbar = dict(\r\n",
        "            titleside = \"right\",\r\n",
        "            outlinecolor = \"rgba(68, 68, 68, 0)\",\r\n",
        "            ticks = \"outside\",\r\n",
        "            showticksuffix = \"last\",\r\n",
        "            dtick = 0.1\r\n",
        "        )\r\n",
        "    )\r\n",
        "        ))\r\n",
        "fig.update_traces(marker=dict(size=5),\r\n",
        "                  selector=dict(mode='markers'))\r\n",
        "fig.update_layout(\r\n",
        "    margin=dict(l=0, r=0, b=0, t=25),\r\n",
        "    title = 'Sismos históricos',\r\n",
        "    )\r\n",
        "fig.show()"
      ],
      "execution_count": null,
      "outputs": []
    },
    {
      "cell_type": "markdown",
      "metadata": {
        "id": "FfRMYPwcwv55"
      },
      "source": [
        "# Normalización"
      ]
    },
    {
      "cell_type": "code",
      "metadata": {
        "id": "0_9ziKCPwz3m"
      },
      "source": [
        "scaler = ______()\r\n",
        "sismosdf.iloc[:,:] = _____._____(_____)\r\n",
        "sismosdf.head()"
      ],
      "execution_count": null,
      "outputs": []
    },
    {
      "cell_type": "markdown",
      "metadata": {
        "id": "9mzw7pSchWLh"
      },
      "source": [
        "# 7. Creación del modelo de clusterización"
      ]
    },
    {
      "cell_type": "code",
      "metadata": {
        "id": "Fs07v8Q5uOZg"
      },
      "source": [
        "g = ____.PairGrid(data=_____, height=2)\r\n",
        "g.map_diag(plt.hist)\r\n",
        "g.map_offdiag(plt.scatter)\r\n",
        "g.add_legend()"
      ],
      "execution_count": null,
      "outputs": []
    },
    {
      "cell_type": "markdown",
      "metadata": {
        "id": "o8Cjnmuh6d2b"
      },
      "source": [
        "Enfoquémonos en Depth vs Magnitude"
      ]
    },
    {
      "cell_type": "code",
      "metadata": {
        "id": "fiGAQO8nFSek"
      },
      "source": [
        "fig = px.scatter(data_frame=_____,\r\n",
        "                    x=____,\r\n",
        "                    y=____,\r\n",
        "                    template='seaborn',\r\n",
        "                    title='Depth vs Magnitude',\r\n",
        ")\r\n",
        "fig.update_layout(margin=dict(l=0, r=0, b=0, t=25))\r\n",
        "fig.update_traces(marker=dict(size=8),\r\n",
        "                  selector=dict(mode='markers'))\r\n",
        "pio.show(fig)"
      ],
      "execution_count": null,
      "outputs": []
    },
    {
      "cell_type": "markdown",
      "metadata": {
        "id": "fxf30wmJ6wwE"
      },
      "source": [
        "**Np array con 2 variables**"
      ]
    },
    {
      "cell_type": "code",
      "metadata": {
        "id": "dEW-IcDS62Yy"
      },
      "source": [
        "X = np.array(sismosdf[['Depth','Magnitude']])"
      ],
      "execution_count": null,
      "outputs": []
    },
    {
      "cell_type": "markdown",
      "metadata": {
        "id": "XgQEbiLd7CLL"
      },
      "source": [
        "#### Determinar el número de clusters adecuados"
      ]
    },
    {
      "cell_type": "code",
      "metadata": {
        "id": "ZCEpq0yOjn-x"
      },
      "source": [
        "Nc = range(1, 10)\r\n",
        "SSD = []\r\n",
        "for i in Nc:\r\n",
        "  kmeans = KMeans(n_clusters=____) \r\n",
        "  kmeans = kmeans.fit(____)\r\n",
        "  SSD.append(____.inertia_)\r\n",
        "\r\n",
        "\r\n",
        "fig=go.Figure(layout=go.Layout(\r\n",
        "        title=go.layout.Title(text=\"Gráfica del codo\")\r\n",
        "    ))\r\n",
        "fig.update_xaxes(title_text='Número de clusters')\r\n",
        "fig.update_yaxes(title_text='Suma de distancias al cuadrado')\r\n",
        "fig.add_scatter(x=pd.Series(Nc), y=pd.Series(SSD), mode='lines')\r\n",
        "fig.update_layout(width=500, height=400, margin=dict(l=0, r=0, b=0, t=25))\r\n",
        "pio.show(fig)"
      ],
      "execution_count": null,
      "outputs": []
    },
    {
      "cell_type": "markdown",
      "metadata": {
        "id": "_sWWQBFc7JK_"
      },
      "source": [
        "#### Ajuste de clusterización y cálculo de centroides"
      ]
    },
    {
      "cell_type": "code",
      "metadata": {
        "id": "dmwslstRnJXT"
      },
      "source": [
        "kmeans = KMeans(n_clusters=___)\r\n",
        "kmeans = kmeans.____(___)\r\n",
        "centroids = ____.cluster_centers_\r\n",
        "print(centroids)"
      ],
      "execution_count": null,
      "outputs": []
    },
    {
      "cell_type": "markdown",
      "metadata": {
        "id": "3DJliSik7ON5"
      },
      "source": [
        "#### Cálculo de clusters"
      ]
    },
    {
      "cell_type": "code",
      "metadata": {
        "id": "G1bhE6B4v7kk"
      },
      "source": [
        "labels = kmeans.predict(X)\r\n",
        "print(pd.Series(labels).unique())"
      ],
      "execution_count": null,
      "outputs": []
    },
    {
      "cell_type": "markdown",
      "metadata": {
        "id": "cpzQ2jnW7g1L"
      },
      "source": [
        "#### Creación de nuevo dataframe con etiquetas de clusters"
      ]
    },
    {
      "cell_type": "code",
      "metadata": {
        "id": "bpvEfSklzI3n"
      },
      "source": [
        "sismosdf['Clusters'] = labels\r\n",
        "sismosdf.head()"
      ],
      "execution_count": null,
      "outputs": []
    },
    {
      "cell_type": "markdown",
      "metadata": {
        "id": "7g3_TTTh7noA"
      },
      "source": [
        "#### Visualización de los clusters"
      ]
    },
    {
      "cell_type": "code",
      "metadata": {
        "id": "bIrjK1CDy-la"
      },
      "source": [
        "fig = px.scatter(data_frame=sismosdf,\r\n",
        "                    x=    ____,\r\n",
        "                    y=    ____,\r\n",
        "                    color=____,\r\n",
        "                    color_continuous_scale=[\"red\", \"green\", \"blue\"],\r\n",
        "                    template='seaborn',\r\n",
        "                    title='Clusterización de sismos')\r\n",
        "fig.update_layout(margin=dict(l=0, r=0, b=0, t=25))\r\n",
        "fig.update_traces(marker=dict(size=6),\r\n",
        "                  selector=dict(mode='markers'))\r\n",
        "fig.add_scatter(x=pd.Series(centroids[:,0]), y=pd.Series(centroids[:,1]), \r\n",
        "                mode='markers', marker = dict(size = 20, color = 'magenta', symbol = 'star'), name=\"centroide\")\r\n",
        "\r\n",
        "pio.show(fig)"
      ],
      "execution_count": null,
      "outputs": []
    },
    {
      "cell_type": "code",
      "metadata": {
        "id": "u4ez2ccK4dl3"
      },
      "source": [
        ""
      ],
      "execution_count": null,
      "outputs": []
    }
  ]
}