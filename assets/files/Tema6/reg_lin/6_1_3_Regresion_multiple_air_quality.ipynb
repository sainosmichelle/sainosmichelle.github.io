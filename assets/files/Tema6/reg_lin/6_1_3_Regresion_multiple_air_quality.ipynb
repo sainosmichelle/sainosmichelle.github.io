{
  "nbformat": 4,
  "nbformat_minor": 0,
  "metadata": {
    "colab": {
      "name": "6.1.3 Regresion_multiple_air_quality.ipynb",
      "provenance": [],
      "collapsed_sections": []
    },
    "kernelspec": {
      "name": "python3",
      "display_name": "Python 3"
    }
  },
  "cells": [
    {
      "cell_type": "markdown",
      "metadata": {
        "id": "A16dg_AAouCX"
      },
      "source": [
        "#1. Regresión lineal múltiple para calidad del aire\r\n",
        "#Air Quality Data Set\r\n",
        "Descripción: Contiene las respuestas de un dispositivo multisensor de gas desplegado sobre el terreno en una ciudad italiana. Los promedios de respuestas por hora se registran junto con referencias de concentraciones de gas de un analizador certificado.\r\n",
        "\r\n",
        "https://archive.ics.uci.edu/ml//datasets/Air+quality\r\n",
        "\r\n",
        "Instancias: 93584\r\n",
        "\r\n",
        "Atributos: 15\r\n",
        "\r\n",
        "0. Fecha (DD / MM / AAAA)\r\n",
        "1. Hora (HH.MM.SS)\r\n",
        "2. Concentración real promedio por hora de CO en mg / m ^ 3 \r\n",
        "3. PT08.S1 (óxido de estaño) \r\n",
        "4. Concentración de hidrocarburos no metánicos total promediada por hora real en microg / m ^ 3 \r\n",
        "5. Concentración de benceno promediada por hora real en microg / m ^ 3 \r\n",
        "6. PT08.S2 (titania) respuesta del sensor promediada por hora\r\n",
        "7. Concentración de NOx promediada por hora real en ppb\r\n",
        "8. PT08.S3 (óxido de tungsteno) respuesta del sensor promediada por hora \r\n",
        "9. Concentración verdadera de NO2 promediada por hora en microg / m ^ 3 \r\n",
        "10. PT08.S4 (óxido de tungsteno) respuesta del sensor promediada por hora \r\n",
        "11. PT08.S5 (óxido de indio) respuesta del sensor promediada por hora \r\n",
        "12. Temperatura en ° C\r\n",
        "13. Humedad relativa (%)\r\n",
        "14. AH de humedad absoluta"
      ]
    },
    {
      "cell_type": "markdown",
      "metadata": {
        "id": "nokWW6HJo_Eu"
      },
      "source": [
        "#2.Autenticación Drive"
      ]
    },
    {
      "cell_type": "code",
      "metadata": {
        "id": "n3dWl96Aol5v"
      },
      "source": [
        "from google.colab import drive\r\n",
        "drive.mount('/content/drive')"
      ],
      "execution_count": null,
      "outputs": []
    },
    {
      "cell_type": "markdown",
      "metadata": {
        "id": "yOpm88O4pFOi"
      },
      "source": [
        "#3. Importando módulos"
      ]
    },
    {
      "cell_type": "code",
      "metadata": {
        "id": "Md1uLE1zpDYh"
      },
      "source": [
        "import ___ as pd\r\n",
        "import os\r\n",
        "import plotly.express as ___\r\n",
        "import plotly.io as ___\r\n",
        "import ____ as np\r\n",
        "import plotly.graph_objects as go\r\n",
        "from sklearn.model_selection import train_test_split\r\n",
        "from sklearn._____ import StandardScaler\r\n",
        "from sklearn.linear_model import LinearRegression\r\n",
        "from sklearn.metrics import mean_squared_error\r\n",
        "from xgboost import XGBRegressor\r\n",
        "from statsmodels.graphics.tsaplots import plot_acf\r\n",
        "from statsmodels.tsa.arima_model import ARIMA"
      ],
      "execution_count": null,
      "outputs": []
    },
    {
      "cell_type": "markdown",
      "metadata": {
        "id": "bKCb5e2tpb4-"
      },
      "source": [
        "#4. Lectura de archivo de calidad de aire"
      ]
    },
    {
      "cell_type": "code",
      "metadata": {
        "id": "tafLZwr7pSYc"
      },
      "source": [
        "path = r'/content/drive/Shareddrives/Data Science para Geociencias/6. Métodos de ML/6.1 Regresión lineal múltiple'\r\n",
        "name = 'AirQualityUCI.xlsx'"
      ],
      "execution_count": null,
      "outputs": []
    },
    {
      "cell_type": "code",
      "metadata": {
        "id": "pMYxovV-rUPX"
      },
      "source": [
        "path_file = os.path.join(____,____)"
      ],
      "execution_count": null,
      "outputs": []
    },
    {
      "cell_type": "code",
      "metadata": {
        "id": "KWrbeJq9re8y"
      },
      "source": [
        "air_quality = pd.read_excel(_____)\r\n",
        "air_quality.head()"
      ],
      "execution_count": null,
      "outputs": []
    },
    {
      "cell_type": "code",
      "metadata": {
        "id": "M4EhC3UIsCth"
      },
      "source": [
        "print('Número de instancias: %s'%len(air_quality))\r\n",
        "print('Número de atributos: %s'%(air_quality.shape[1]))"
      ],
      "execution_count": null,
      "outputs": []
    },
    {
      "cell_type": "markdown",
      "metadata": {
        "id": "WEF2LB-prs2l"
      },
      "source": [
        "#5. Limpieza de datos"
      ]
    },
    {
      "cell_type": "markdown",
      "metadata": {
        "id": "CxcWr78MwHud"
      },
      "source": [
        "\r\n",
        "\r\n",
        "**Modificando la columna de fecha: Unir Date y Time para formar la columna Fecha**"
      ]
    },
    {
      "cell_type": "code",
      "metadata": {
        "id": "HkA9DjXxromS"
      },
      "source": [
        "air_quality.loc[:,'Fecha'] = pd.to_datetime(air_quality.____.astype(str)+' '+air_quality.____.astype(str))\r\n",
        "air_quality.drop(['Date','Time'], axis=1, inplace=True)"
      ],
      "execution_count": null,
      "outputs": []
    },
    {
      "cell_type": "code",
      "metadata": {
        "id": "23MeJbIJ4G92"
      },
      "source": [
        "# Ordenando las columnas para que Fecha quede al principio :)\r\n",
        "air_quality = air_quality[['Fecha','CO(GT)','PT08.S1(CO)','NMHC(GT)','C6H6(GT)','PT08.S2(NMHC)','NOx(GT)','PT08.S3(NOx)','NO2(GT)','PT08.S4(NO2)','PT08.S5(O3)','RH','AH','T']]\r\n",
        "_____.head()"
      ],
      "execution_count": null,
      "outputs": []
    },
    {
      "cell_type": "markdown",
      "metadata": {
        "id": "zeCP_CjN4QMj"
      },
      "source": [
        "**Graficar Fecha vs T**"
      ]
    },
    {
      "cell_type": "code",
      "metadata": {
        "id": "G48qZOMnsXVY"
      },
      "source": [
        "fig=go.Figure()\r\n",
        "fig.layout.template = \"ggplot2\" \r\n",
        "fig.add_scatter(x=air_quality[____], y=air_quality[____], mode='lines',name='T')\r\n",
        "fig.update_traces(marker=dict(size=3),\r\n",
        "                  selector=dict(mode='markers'))\r\n",
        "pio.show(fig)"
      ],
      "execution_count": null,
      "outputs": []
    },
    {
      "cell_type": "markdown",
      "metadata": {
        "id": "shKMncM-wW8l"
      },
      "source": [
        "**Verificando si existen NaNs**"
      ]
    },
    {
      "cell_type": "code",
      "metadata": {
        "id": "B8SdGol6sbzS"
      },
      "source": [
        "print ('Conteo de valores faltantes: \\n')\r\n",
        "print (_____.isna().sum())"
      ],
      "execution_count": null,
      "outputs": []
    },
    {
      "cell_type": "markdown",
      "metadata": {
        "id": "rjImGcOpwfYS"
      },
      "source": [
        "\r\n",
        "**Identificación y reemplazo de los -200 con la media por columna**\r\n",
        "\r\n",
        "**No olvides NO tomar en cuenta la columna de Fecha**"
      ]
    },
    {
      "cell_type": "code",
      "metadata": {
        "id": "RfzczjcAt6iQ"
      },
      "source": [
        "for i in range(air_quality.shape[1]-1):\r\n",
        "  _____.iloc[:,i+1] = air_quality.iloc[:,i+1].replace(to_replace=___, value=air_quality.iloc[:,i+1][air_quality.iloc[:,i+1]>0].____())"
      ],
      "execution_count": null,
      "outputs": []
    },
    {
      "cell_type": "code",
      "metadata": {
        "id": "Vbtl9lh5t9QC"
      },
      "source": [
        "fig=go.Figure()\r\n",
        "fig.add_scatter(x=air_quality[____], y=air_quality[___], mode='lines',name='T')\r\n",
        "fig.update_traces(marker=dict(size=3),\r\n",
        "                  selector=dict(mode='markers'))\r\n",
        "pio.show(fig)"
      ],
      "execution_count": null,
      "outputs": []
    },
    {
      "cell_type": "markdown",
      "metadata": {
        "id": "tEQAsFsUw506"
      },
      "source": [
        "**Escalamiento: estandarización**\r\n",
        "\r\n",
        "**No olvides excluir la columna de Fecha**"
      ]
    },
    {
      "cell_type": "code",
      "metadata": {
        "id": "2tyLzfo1wCoj"
      },
      "source": [
        "scale = StandardScaler()\r\n",
        "air_quality.iloc[:,1:-1] = scale.______(air_quality.iloc[:,1:-1])"
      ],
      "execution_count": null,
      "outputs": []
    },
    {
      "cell_type": "code",
      "metadata": {
        "id": "3wzD9U1t3NYp"
      },
      "source": [
        "_____.head()"
      ],
      "execution_count": null,
      "outputs": []
    },
    {
      "cell_type": "markdown",
      "metadata": {
        "id": "e9PUaSqb-4kz"
      },
      "source": [
        "#6. Hold out validation para series de tiempo\r\n"
      ]
    },
    {
      "cell_type": "markdown",
      "metadata": {
        "id": "dTkmzMYE9kke"
      },
      "source": [
        "**Dividiendo el 80% de nuestros datos para entrenamiento y el 20% para validación, recuerda que en series de tiempo SI IMPORTA EL ORDEN**"
      ]
    },
    {
      "cell_type": "code",
      "metadata": {
        "id": "NbUkge65Gzml"
      },
      "source": [
        "Xtrain, Xtest, Ytrain, Ytest = train_test_split(air_quality.iloc[:,1:-1].to_numpy(), air_quality.iloc[:,-1].to_numpy(), test_size = ____, shuffle=____)"
      ],
      "execution_count": null,
      "outputs": []
    },
    {
      "cell_type": "code",
      "metadata": {
        "id": "iXeqAfdYFz7L"
      },
      "source": [
        "print(f'Dimension de los datos de entrenamiento {____.shape}')\r\n",
        "print(f'Dimension de los datos de prueba {____.shape}')"
      ],
      "execution_count": null,
      "outputs": []
    },
    {
      "cell_type": "markdown",
      "metadata": {
        "id": "1U1XYAKvHifO"
      },
      "source": [
        "#7. Modelo de inferencia: Regresión lineal múltiple"
      ]
    },
    {
      "cell_type": "markdown",
      "metadata": {
        "id": "T-EYXLHLM9od"
      },
      "source": [
        "**Instanciando regresor**"
      ]
    },
    {
      "cell_type": "code",
      "metadata": {
        "id": "Y6KlSGseHcWG"
      },
      "source": [
        "linreg = LinearRegression(normalize=False)"
      ],
      "execution_count": null,
      "outputs": []
    },
    {
      "cell_type": "markdown",
      "metadata": {
        "id": "lBfZqnppMiAk"
      },
      "source": [
        "**Ajuste con datos de entrenamiento**"
      ]
    },
    {
      "cell_type": "code",
      "metadata": {
        "id": "72wjVPjNMjsp"
      },
      "source": [
        "linreg = linreg.fit(____, ____)"
      ],
      "execution_count": null,
      "outputs": []
    },
    {
      "cell_type": "markdown",
      "metadata": {
        "id": "Lf-8KDn-Mfu9"
      },
      "source": [
        "## 7.1 Infieriendo temperaturas de prueba "
      ]
    },
    {
      "cell_type": "code",
      "metadata": {
        "id": "VpqebJq4JmNb"
      },
      "source": [
        "preds = linreg.predict(___)"
      ],
      "execution_count": null,
      "outputs": []
    },
    {
      "cell_type": "markdown",
      "metadata": {
        "id": "cKTb0TKe8YMb"
      },
      "source": [
        "**Score de prueba**"
      ]
    },
    {
      "cell_type": "code",
      "metadata": {
        "id": "RRtTY5bW8dTK"
      },
      "source": [
        "linreg.score(____, ____)"
      ],
      "execution_count": null,
      "outputs": []
    },
    {
      "cell_type": "markdown",
      "metadata": {
        "id": "cKiZYAa1DBYy"
      },
      "source": [
        "**MSE de prueba**"
      ]
    },
    {
      "cell_type": "code",
      "metadata": {
        "id": "VG4r2Gs-DFXG"
      },
      "source": [
        "mean_squared_error(____,____)"
      ],
      "execution_count": null,
      "outputs": []
    },
    {
      "cell_type": "markdown",
      "metadata": {
        "id": "GAAmN08Z9fQv"
      },
      "source": [
        "**Comparación entre groundtruth y predicción**"
      ]
    },
    {
      "cell_type": "code",
      "metadata": {
        "id": "MzGsQigdR2Ei"
      },
      "source": [
        "n_train = int(0.8*air_quality.shape[0])\r\n",
        "test_df =  air_quality.iloc[n_train:,:]\r\n",
        "fig=go.Figure()\r\n",
        "fig.add_scatter(x=test_df['Fecha'], y=Ytest, mode='lines',name='Ground Truth')\r\n",
        "fig.add_scatter(x=test_df['Fecha'], y=_____, mode='lines',name='Predicted')\r\n",
        "fig.update_traces(marker=dict(size=3),\r\n",
        "                  selector=dict(mode='markers'))\r\n",
        "pio.show(____)"
      ],
      "execution_count": null,
      "outputs": []
    },
    {
      "cell_type": "markdown",
      "metadata": {
        "id": "7-wQDCjM9rmt"
      },
      "source": [
        "**Visualización de residuales**"
      ]
    },
    {
      "cell_type": "code",
      "metadata": {
        "id": "nYUctgOb8Cfm"
      },
      "source": [
        "fig=go.Figure()\r\n",
        "fig.add_scatter(x=test_df['Fecha'], y=_____, mode='lines',name='Residuales', line=go.scatter.Line(color=\"green\"))\r\n",
        "fig.add_scatter(x=test_df['Fecha'], y=np.zeros((len(Ytest))), mode='lines',name='Linea Base', line=go.scatter.Line(color=\"gray\"))\r\n",
        "fig.update_traces(marker=dict(size=3),\r\n",
        "                  selector=dict(mode='markers'))\r\n",
        "pio.show(fig)"
      ],
      "execution_count": null,
      "outputs": []
    },
    {
      "cell_type": "markdown",
      "metadata": {
        "id": "-qTdU5Zy_kgm"
      },
      "source": [
        "# 8. Modelo de inferencia con XGBoostRegressor"
      ]
    },
    {
      "cell_type": "markdown",
      "metadata": {
        "id": "pTWJjR7rBRh-"
      },
      "source": [
        "**Instanciando regresor**"
      ]
    },
    {
      "cell_type": "code",
      "metadata": {
        "id": "wM1UWLh8-CEH"
      },
      "source": [
        "XGBR = XGBRegressor(normalize=False)"
      ],
      "execution_count": null,
      "outputs": []
    },
    {
      "cell_type": "markdown",
      "metadata": {
        "id": "ewrfOrNOBWrV"
      },
      "source": [
        "**Ajuste con los datos de entrenamiento**"
      ]
    },
    {
      "cell_type": "code",
      "metadata": {
        "id": "2aeWNg3eEZwI"
      },
      "source": [
        "XGBR = XGBR.fit(____,____)"
      ],
      "execution_count": null,
      "outputs": []
    },
    {
      "cell_type": "markdown",
      "metadata": {
        "id": "9ayOi-9cBanB"
      },
      "source": [
        "**Score de entrenamiento**"
      ]
    },
    {
      "cell_type": "code",
      "metadata": {
        "id": "V2PlzCvQFW1P"
      },
      "source": [
        "XGBR.score(____,____)"
      ],
      "execution_count": null,
      "outputs": []
    },
    {
      "cell_type": "markdown",
      "metadata": {
        "id": "tcFr2l0iBrOM"
      },
      "source": [
        "## 8.1 Infiriendo temperaturas de prueba con XGBR"
      ]
    },
    {
      "cell_type": "code",
      "metadata": {
        "id": "jqDLDz6iFkDF"
      },
      "source": [
        "preds = XGBR.predict(____)"
      ],
      "execution_count": null,
      "outputs": []
    },
    {
      "cell_type": "markdown",
      "metadata": {
        "id": "AJGL0EABD_k_"
      },
      "source": [
        "**Score de prueba**"
      ]
    },
    {
      "cell_type": "code",
      "metadata": {
        "id": "FGXA5EKFFjQu"
      },
      "source": [
        "XGBR.____(Xtest,Ytest)"
      ],
      "execution_count": null,
      "outputs": []
    },
    {
      "cell_type": "markdown",
      "metadata": {
        "id": "pQJjQWCGEJ4I"
      },
      "source": [
        "**MSE de prueba**"
      ]
    },
    {
      "cell_type": "code",
      "metadata": {
        "id": "McFD9iBZF1Wm"
      },
      "source": [
        "mean_squared_error(___,preds)"
      ],
      "execution_count": null,
      "outputs": []
    },
    {
      "cell_type": "markdown",
      "metadata": {
        "id": "TrIDNvI-CFkg"
      },
      "source": [
        "**Comparación entre groundtruth y predicción**"
      ]
    },
    {
      "cell_type": "code",
      "metadata": {
        "id": "8EsvAEIQF_he"
      },
      "source": [
        "fig=go.Figure()\r\n",
        "fig.add_scatter(x=test_df['Fecha'], y=Ytest, mode='lines',name='Ground Truth')\r\n",
        "fig.add_scatter(x=test_df['Fecha'], y=____, mode='lines',name='Predicted')\r\n",
        "fig.update_traces(marker=dict(size=3),\r\n",
        "                  selector=dict(mode='markers'))\r\n",
        "pio.show(fig)"
      ],
      "execution_count": null,
      "outputs": []
    },
    {
      "cell_type": "markdown",
      "metadata": {
        "id": "jfjtP1-JCMI0"
      },
      "source": [
        "**Visualización de residuales**"
      ]
    },
    {
      "cell_type": "code",
      "metadata": {
        "id": "6yRuh8_0GAgj"
      },
      "source": [
        "fig=go.Figure()\r\n",
        "fig.add_scatter(x=test_df['Fecha'], y=_____, mode='lines',name='Residuales', line=go.scatter.Line(color=\"green\"))\r\n",
        "fig.add_scatter(x=test_df['Fecha'], y=np.zeros((len(Ytest))), mode='lines',name='Linea Base', line=go.scatter.Line(color=\"gray\"))\r\n",
        "fig.update_traces(marker=dict(size=3),\r\n",
        "                  selector=dict(mode='markers'))\r\n",
        "pio.show(fig)"
      ],
      "execution_count": null,
      "outputs": []
    },
    {
      "cell_type": "markdown",
      "metadata": {
        "id": "JbJdBbcGCYd5"
      },
      "source": [
        "# 9. Modelo de inferencia con ARIMA"
      ]
    },
    {
      "cell_type": "markdown",
      "metadata": {
        "id": "OZnO6d5qOd6z"
      },
      "source": [
        "**Cambiando el dataframe para que solo tengamos fecha y T**"
      ]
    },
    {
      "cell_type": "code",
      "metadata": {
        "colab": {
          "base_uri": "https://localhost:8080/",
          "height": 343
        },
        "id": "5L14vajcOelE",
        "outputId": "538ef082-45bf-4d27-eeff-f7c06d0033ca"
      },
      "source": [
        "arimadf = air_quality.iloc[:,[0,-1]]\r\n",
        "arimadf.head(10)"
      ],
      "execution_count": null,
      "outputs": [
        {
          "output_type": "execute_result",
          "data": {
            "text/html": [
              "<div>\n",
              "<style scoped>\n",
              "    .dataframe tbody tr th:only-of-type {\n",
              "        vertical-align: middle;\n",
              "    }\n",
              "\n",
              "    .dataframe tbody tr th {\n",
              "        vertical-align: top;\n",
              "    }\n",
              "\n",
              "    .dataframe thead th {\n",
              "        text-align: right;\n",
              "    }\n",
              "</style>\n",
              "<table border=\"1\" class=\"dataframe\">\n",
              "  <thead>\n",
              "    <tr style=\"text-align: right;\">\n",
              "      <th></th>\n",
              "      <th>Fecha</th>\n",
              "      <th>T</th>\n",
              "    </tr>\n",
              "  </thead>\n",
              "  <tbody>\n",
              "    <tr>\n",
              "      <th>0</th>\n",
              "      <td>2004-03-10 18:00:00</td>\n",
              "      <td>13.600</td>\n",
              "    </tr>\n",
              "    <tr>\n",
              "      <th>1</th>\n",
              "      <td>2004-03-10 19:00:00</td>\n",
              "      <td>13.300</td>\n",
              "    </tr>\n",
              "    <tr>\n",
              "      <th>2</th>\n",
              "      <td>2004-03-10 20:00:00</td>\n",
              "      <td>11.900</td>\n",
              "    </tr>\n",
              "    <tr>\n",
              "      <th>3</th>\n",
              "      <td>2004-03-10 21:00:00</td>\n",
              "      <td>11.000</td>\n",
              "    </tr>\n",
              "    <tr>\n",
              "      <th>4</th>\n",
              "      <td>2004-03-10 22:00:00</td>\n",
              "      <td>11.150</td>\n",
              "    </tr>\n",
              "    <tr>\n",
              "      <th>5</th>\n",
              "      <td>2004-03-10 23:00:00</td>\n",
              "      <td>11.175</td>\n",
              "    </tr>\n",
              "    <tr>\n",
              "      <th>6</th>\n",
              "      <td>2004-03-11 00:00:00</td>\n",
              "      <td>11.325</td>\n",
              "    </tr>\n",
              "    <tr>\n",
              "      <th>7</th>\n",
              "      <td>2004-03-11 01:00:00</td>\n",
              "      <td>10.675</td>\n",
              "    </tr>\n",
              "    <tr>\n",
              "      <th>8</th>\n",
              "      <td>2004-03-11 02:00:00</td>\n",
              "      <td>10.650</td>\n",
              "    </tr>\n",
              "    <tr>\n",
              "      <th>9</th>\n",
              "      <td>2004-03-11 03:00:00</td>\n",
              "      <td>10.250</td>\n",
              "    </tr>\n",
              "  </tbody>\n",
              "</table>\n",
              "</div>"
            ],
            "text/plain": [
              "                Fecha       T\n",
              "0 2004-03-10 18:00:00  13.600\n",
              "1 2004-03-10 19:00:00  13.300\n",
              "2 2004-03-10 20:00:00  11.900\n",
              "3 2004-03-10 21:00:00  11.000\n",
              "4 2004-03-10 22:00:00  11.150\n",
              "5 2004-03-10 23:00:00  11.175\n",
              "6 2004-03-11 00:00:00  11.325\n",
              "7 2004-03-11 01:00:00  10.675\n",
              "8 2004-03-11 02:00:00  10.650\n",
              "9 2004-03-11 03:00:00  10.250"
            ]
          },
          "metadata": {
            "tags": []
          },
          "execution_count": 24
        }
      ]
    },
    {
      "cell_type": "markdown",
      "metadata": {
        "id": "HYsJ7z4jP4lZ"
      },
      "source": [
        "¿Es estacionaria? mean, variance y cov constantes en periodos de tiempo"
      ]
    },
    {
      "cell_type": "code",
      "metadata": {
        "colab": {
          "base_uri": "https://localhost:8080/",
          "height": 545
        },
        "id": "-0mPpCswRyg1",
        "outputId": "fa07f0b3-e9c7-4b94-c00b-8629f02c586a"
      },
      "source": [
        "plot_acf(arimadf.iloc[:,1])"
      ],
      "execution_count": null,
      "outputs": [
        {
          "output_type": "execute_result",
          "data": {
            "image/png": "[encoded data removed]",
            "text/plain": [
              "<Figure size 432x288 with 1 Axes>"
            ]
          },
          "metadata": {
            "tags": []
          },
          "execution_count": 25
        },
        {
          "output_type": "display_data",
          "data": {
            "image/png": "[encoded data removed]",
            "text/plain": [
              "<Figure size 432x288 with 1 Axes>"
            ]
          },
          "metadata": {
            "tags": [],
            "needs_background": "light"
          }
        }
      ]
    },
    {
      "cell_type": "markdown",
      "metadata": {
        "id": "a2XZrPBIQGm6"
      },
      "source": [
        "**Convertir la serie a estacionaria Integrated(1)**"
      ]
    },
    {
      "cell_type": "code",
      "metadata": {
        "id": "FJCu1ySrQAqg"
      },
      "source": [
        "arimadf_diff = air_quality.iloc[:,-1]\r\n",
        "arimadf_diff.iloc[:] = arimadf_diff.iloc[:].diff(periods=1) "
      ],
      "execution_count": null,
      "outputs": []
    },
    {
      "cell_type": "code",
      "metadata": {
        "id": "GlioYfoMQkPU"
      },
      "source": [
        "arimadf_diff = arimadf_diff[1:]"
      ],
      "execution_count": null,
      "outputs": []
    },
    {
      "cell_type": "code",
      "metadata": {
        "id": "AMt4JON1RPXY"
      },
      "source": [
        "plot_acf(____)"
      ],
      "execution_count": null,
      "outputs": []
    },
    {
      "cell_type": "code",
      "metadata": {
        "id": "Ahg0c7flSP1_"
      },
      "source": [
        "fig=go.Figure()\r\n",
        "fig.add_scatter(x=arimadf['Fecha'], y=arimadf_diff, mode='lines',name='', line=go.scatter.Line(color=\"green\"))\r\n",
        "fig.update_traces(marker=dict(size=3),\r\n",
        "                  selector=dict(mode='markers'))\r\n",
        "pio.show(fig)"
      ],
      "execution_count": null,
      "outputs": []
    },
    {
      "cell_type": "code",
      "metadata": {
        "id": "B7cnsq1oUkpW"
      },
      "source": [
        "n_train = int(0.95*air_quality.shape[0]) \r\n",
        "n_test = air_quality.shape[0]-n_train\r\n",
        " \r\n",
        "train_df = arimadf.iloc[:n_train,:]\r\n",
        "test_df =  arimadf.iloc[n_train:,:]\r\n",
        "train = train_df.iloc[:n_train,1].to_numpy()\r\n",
        "test =  test_df.iloc[n_train:,1].to_numpy()"
      ],
      "execution_count": null,
      "outputs": []
    },
    {
      "cell_type": "markdown",
      "metadata": {
        "id": "jW2Es992CXoj"
      },
      "source": [
        "## 9.1 Inferencia de temperaturas de prueba\r\n",
        "\r\n"
      ]
    },
    {
      "cell_type": "code",
      "metadata": {
        "id": "J3S6jdUuPKH6"
      },
      "source": [
        "model_arima = ARIMA(train,order=(10,1,10))"
      ],
      "execution_count": null,
      "outputs": []
    },
    {
      "cell_type": "markdown",
      "metadata": {
        "id": "Fa5vGQ2rE1GG"
      },
      "source": [
        "**Entrenamiento**"
      ]
    },
    {
      "cell_type": "code",
      "metadata": {
        "id": "PNjoBpr6XqtR"
      },
      "source": [
        "model_arima_fit = model_arima.fit()"
      ],
      "execution_count": null,
      "outputs": []
    },
    {
      "cell_type": "markdown",
      "metadata": {
        "id": "-wsXYc0mYafK"
      },
      "source": [
        "**Predicciones**"
      ]
    },
    {
      "cell_type": "code",
      "metadata": {
        "id": "Bst1Rm3CX9_K"
      },
      "source": [
        "preds = model_arima_fit.forecast(steps=____)[0]"
      ],
      "execution_count": null,
      "outputs": []
    },
    {
      "cell_type": "markdown",
      "metadata": {
        "id": "TW6cTQMjE0mi"
      },
      "source": [
        "**Visualización de los predichos vs. groundtruth**"
      ]
    },
    {
      "cell_type": "code",
      "metadata": {
        "id": "rypKf8EkYg0F"
      },
      "source": [
        "fig=go.Figure()\r\n",
        "fig.add_scatter(x=test_df['Fecha'], y=test_df['T'], mode='lines',name='Ground Truth')\r\n",
        "fig.add_scatter(x=test_df['Fecha'], y=_____, mode='lines',name='Predicted')\r\n",
        "fig.update_traces(marker=dict(size=3),\r\n",
        "                  selector=dict(mode='markers'))\r\n",
        "pio.show(____)"
      ],
      "execution_count": null,
      "outputs": []
    },
    {
      "cell_type": "code",
      "metadata": {
        "id": "GngQuTpXaDYc"
      },
      "source": [
        ""
      ],
      "execution_count": null,
      "outputs": []
    }
  ]
}